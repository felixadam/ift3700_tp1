{
 "cells": [
  {
   "cell_type": "markdown",
   "metadata": {},
   "source": [
    "# TP1 de IFT-3700\n",
    "Mehdi Aqdim\n",
    "\n",
    "Maxime Daigle\n",
    "\n",
    "Adam Félix\n",
    "\n",
    "Jonathan Graveline"
   ]
  },
  {
   "cell_type": "markdown",
   "metadata": {},
   "source": [
    "## Preprocessing\n",
    "\n",
    "Charger les données\n",
    "\n",
    "et reduire les pixels a noir ou blanc (0 ou 1)"
   ]
  },
  {
   "cell_type": "code",
   "execution_count": 1,
   "metadata": {},
   "outputs": [
    {
     "data": {
      "text/plain": [
       "\"\\n    Décommentez les 5 lignes suivantes pour\\n        avoir des valeurs binaires\\n        (10 c'est le treshold... 128 serait peut-être mieux)\\n\""
      ]
     },
     "execution_count": 1,
     "metadata": {},
     "output_type": "execute_result"
    }
   ],
   "source": [
    "import numpy as np\n",
    "import time\n",
    "from sklearn.preprocessing import Binarizer\n",
    "\n",
    "\"\"\"\n",
    "    Mettre `skiprows=1` pour avoir toutes les données.\n",
    "    (Mais c'est très long surtout pour faire des tests.)\n",
    "\"\"\"\n",
    "mnist_train = np.loadtxt('mnist_train.csv', dtype='int', delimiter=',', skiprows=59001)\n",
    "mnist_test  = np.loadtxt('mnist_test.csv', dtype='int', delimiter=',', skiprows=9501)\n",
    "\n",
    "#print(mnist_train[0])\n",
    "\n",
    "train_label = mnist_train[:,0]\n",
    "train_data  = mnist_train[:,1:]\n",
    "\n",
    "test_label  = mnist_test[:,0]\n",
    "test_data   = mnist_test[:,1:]\n",
    "\n",
    "#print(train_data.shape[1])\n",
    "\n",
    "\"\"\"\n",
    "    Décommentez les 5 lignes suivantes pour\n",
    "        avoir des valeurs binaires\n",
    "        (10 c'est le treshold... 128 serait peut-être mieux)\n",
    "\"\"\"\n",
    "\n",
    "#pp = Binarizer(10)\n",
    "\n",
    "#pp.fit(train_data)\n",
    "#train_data_d1 = pp.transform(train_data)\n",
    "\n",
    "#pp.fit(test_data)\n",
    "#test_data_d1  = pp.transform(test_data)\n",
    "\n",
    "#print(train_data.shape[1])\n",
    "#print(train_data[0])"
   ]
  },
  {
   "cell_type": "markdown",
   "metadata": {},
   "source": [
    "## Mesures"
   ]
  },
  {
   "cell_type": "code",
   "execution_count": 2,
   "metadata": {},
   "outputs": [],
   "source": [
    "# distance euclidien\n",
    "from sklearn.metrics import euclidean_distances\n",
    "\n",
    "# Similarité cosine\n",
    "# http://scikit-learn.org/stable/modules/metrics.html#cosine-similarity\n",
    "from sklearn.metrics.pairwise import cosine_similarity\n",
    "\n",
    "# Chi2 kernel\n",
    "# http://scikit-learn.org/stable/modules/metrics.html#chi-squared-kernel\n",
    "from sklearn.metrics.pairwise import chi2_kernel\n",
    "\n",
    "# Sigmoid kernel\n",
    "# http://scikit-learn.org/stable/modules/metrics.html#sigmoid-kernel\n",
    "from sklearn.metrics.pairwise import sigmoid_kernel\n",
    "\n",
    "# RBF kernel\n",
    "# http://scikit-learn.org/stable/modules/metrics.html#rbf-kernel\n",
    "from sklearn.metrics.pairwise import rbf_kernel\n",
    "\n",
    "# Laplacian kernel\n",
    "# http://scikit-learn.org/stable/modules/metrics.html#laplacian-kernel\n",
    "from sklearn.metrics.pairwise import laplacian_kernel\n",
    "\n",
    "# Polynomial kernel\n",
    "# http://scikit-learn.org/stable/modules/metrics.html#polynomial-kernel\n",
    "from sklearn.metrics.pairwise import polynomial_kernel\n",
    "\n",
    "\"\"\"\n",
    "Autre mesure possiblement interessante\n",
    "from scikit-learn: [‘cityblock’, ‘cosine’, ‘euclidean’, ‘l1’, ‘l2’, ‘manhattan’]\n",
    "from scipy.spatial.distance: [‘braycurtis’, ‘canberra’, ‘chebyshev’, ‘correlation’, ‘dice’, ‘hamming’, ‘jaccard’, \n",
    "                              ‘kulsinski’, ‘mahalanobis’, ‘minkowski’, ‘rogerstanimoto’, ‘russellrao’, ‘seuclidean’, \n",
    "                              ‘sokalmichener’, ‘sokalsneath’, ‘sqeuclidean’, ‘yule’]\n",
    "\"\"\"\n",
    "\n"
   ]
  },
  {
   "cell_type": "markdown",
   "metadata": {},
   "source": [
    "## Distance, essai 1: density\n",
    "\n",
    "C'est une facon de considerer les points voisins dans le calcul. Ce qui je crois devrais aider..."
   ]
  },
  {
   "cell_type": "markdown",
   "metadata": {},
   "source": [
    "Calcul de la densite a chaque point:"
   ]
  },
  {
   "cell_type": "code",
   "execution_count": null,
   "metadata": {},
   "outputs": [],
   "source": [
    "def in_bounds(pi, x, y):\n",
    "    ret = pi + x + (y * 28)\n",
    "    if ret > 783:\n",
    "        return 783\n",
    "    elif ret < 0:\n",
    "        return 0\n",
    "    else:\n",
    "        return ret\n",
    "\n",
    "def get_density(data, radius):\n",
    "    rdata = []\n",
    "    rrange = range(-radius,radius+1)\n",
    "    for ei in range(data.shape[0]):\n",
    "        ex = data[ei]\n",
    "        nex = []\n",
    "        for pi in range(ex.shape[0]):\n",
    "            nex.append(sum([ex[in_bounds(pi,x,y)] for x in rrange for y in rrange]))\n",
    "        rdata.append(nex)\n",
    "    return np.array(rdata)\n",
    "\n",
    "train_data_d1 = get_density(train_data, 1)\n",
    "test_data_d1  = get_density(test_data, 1)\n",
    "\n",
    "#print(pp_data.shape[1])\n",
    "#print(pp_data[0])"
   ]
  },
  {
   "cell_type": "code",
   "execution_count": null,
   "metadata": {},
   "outputs": [],
   "source": [
    "\n",
    "\"\"\"\n",
    "    Note 1: This is useless, data set is already transformed,\n",
    "        so we may use euclidean distance directly on density map.\n",
    "    \n",
    "    Note 2: Built-in euclidean is way faster! Better hack data set\n",
    "        and use built-in euclidean.\n",
    "\"\"\"\n",
    "def distance_1(lhs, rhs):\n",
    "    #assert(lhs.shape == rhs.shape)\n",
    "    ret = 0\n",
    "    for pi in range(lhs.shape[0]):\n",
    "        ret += abs(lhs[pi] - rhs[pi])\n",
    "    return ret\n",
    "\n",
    "print('Distance of train_data[0] to itself == %d' % distance_1(train_data[0],train_data[0]))"
   ]
  },
  {
   "cell_type": "markdown",
   "metadata": {},
   "source": [
    "## KNN\n",
    "\n",
    "Algorithme de classification"
   ]
  },
  {
   "cell_type": "code",
   "execution_count": null,
   "metadata": {},
   "outputs": [],
   "source": [
    "from sklearn.neighbors import NearestNeighbors\n",
    "\n",
    "def knn(n, r, d):\n",
    "    return NearestNeighbors(n, r, metric=d, n_jobs=6)"
   ]
  },
  {
   "cell_type": "markdown",
   "metadata": {},
   "source": [
    "## Evaluation of performance:"
   ]
  },
  {
   "cell_type": "code",
   "execution_count": null,
   "metadata": {},
   "outputs": [],
   "source": [
    "def get_best(idxs, train_label):\n",
    "    counts = np.bincount(train_label[idxs])\n",
    "    return np.argmax(counts)\n",
    "\n",
    "def perf_knn(train_set, train_label, test_set, test_label):\n",
    "    n_tests = test_label.shape[0]\n",
    "    \n",
    "    algo = knn(11, 1.0, 'euclidean')\n",
    "    algo.fit(train_set)\n",
    "    \n",
    "    idxs = algo.kneighbors(test_set, return_distance=False)\n",
    "    \n",
    "    ret = sum([(get_best(idxs[idx], train_label) == test_label[idx]) for idx in range(n_tests)])\n",
    "    \n",
    "    return ((ret * 100.0) / test_set.shape[0])"
   ]
  },
  {
   "cell_type": "code",
   "execution_count": null,
   "metadata": {},
   "outputs": [],
   "source": [
    "\"\"\" Avec les données modifiées. \"\"\"\n",
    "result = perf_knn(train_data_d1, train_label, test_data_d1, test_label)\n",
    "\n",
    "print('perf_knn (distance_1) == %.4f %%' % result)\n",
    "\n",
    "\"\"\" Avec les données originales. \"\"\"\n",
    "result = perf_knn(train_data, train_label, test_data, test_label)\n",
    "\n",
    "print('perf_knn (euclidean)  == %.4f %%' % result)"
   ]
  },
  {
   "cell_type": "markdown",
   "metadata": {},
   "source": [
    "## Isomap\n",
    "\n",
    "Algorithme de reduction de dimensionnalite"
   ]
  },
  {
   "cell_type": "markdown",
   "metadata": {},
   "source": [
    "##### Modified isomap from scikit learn to be able to change the metric used"
   ]
  },
  {
   "cell_type": "code",
   "execution_count": 3,
   "metadata": {},
   "outputs": [],
   "source": [
    "\"\"\"Isomap for manifold learning\"\"\"\n",
    "\n",
    "# Author: Jake Vanderplas  -- <vanderplas@astro.washington.edu>\n",
    "# License: BSD 3 clause (C) 2011\n",
    "\n",
    "import numpy as np\n",
    "from sklearn.base import BaseEstimator, TransformerMixin\n",
    "from sklearn.neighbors import NearestNeighbors, kneighbors_graph\n",
    "from sklearn.utils import check_array\n",
    "from sklearn.utils.graph import graph_shortest_path\n",
    "from sklearn.decomposition import KernelPCA\n",
    "from sklearn.preprocessing import KernelCenterer\n",
    "\n",
    "#_____________________________\n",
    "# ____________ADDED___________\n",
    "#_____________________________\n",
    "\"\"\" \n",
    "It is now possible to specify the metric use in fit_transform()\n",
    "\n",
    "\n",
    "metric : string or callable, default ‘minkowski’\n",
    "metric to use for distance computation. Any metric from scikit-learn or scipy.spatial.distance can be used.\n",
    "\n",
    "If metric is a callable function, it is called on each pair of instances (rows) and the resulting value recorded. \n",
    "The callable should take two arrays as input and return one value indicating the distance between them. \n",
    "This works for Scipy’s metrics, but is less efficient than passing the metric name as a string.\n",
    "\n",
    "Distance matrices are not supported.\n",
    "\n",
    "Valid values for metric are:\n",
    "from scikit-learn: [‘cityblock’, ‘cosine’, ‘euclidean’, ‘l1’, ‘l2’, ‘manhattan’]\n",
    "from scipy.spatial.distance: [‘braycurtis’, ‘canberra’, ‘chebyshev’, ‘correlation’, ‘dice’, ‘hamming’, ‘jaccard’, \n",
    "                              ‘kulsinski’, ‘mahalanobis’, ‘minkowski’, ‘rogerstanimoto’, ‘russellrao’, ‘seuclidean’, \n",
    "                              ‘sokalmichener’, ‘sokalsneath’, ‘sqeuclidean’, ‘yule’]\n",
    "\"\"\"\n",
    "\n",
    "\n",
    "class Isomap(BaseEstimator, TransformerMixin):\n",
    "    \"\"\"Isomap Embedding\n",
    "    Non-linear dimensionality reduction through Isometric Mapping\n",
    "    Read more in the :ref:`User Guide <isomap>`.\n",
    "    Parameters\n",
    "    ----------\n",
    "    n_neighbors : integer\n",
    "        number of neighbors to consider for each point.\n",
    "    n_components : integer\n",
    "        number of coordinates for the manifold\n",
    "    eigen_solver : ['auto'|'arpack'|'dense']\n",
    "        'auto' : Attempt to choose the most efficient solver\n",
    "        for the given problem.\n",
    "        'arpack' : Use Arnoldi decomposition to find the eigenvalues\n",
    "        and eigenvectors.\n",
    "        'dense' : Use a direct solver (i.e. LAPACK)\n",
    "        for the eigenvalue decomposition.\n",
    "    tol : float\n",
    "        Convergence tolerance passed to arpack or lobpcg.\n",
    "        not used if eigen_solver == 'dense'.\n",
    "    max_iter : integer\n",
    "        Maximum number of iterations for the arpack solver.\n",
    "        not used if eigen_solver == 'dense'.\n",
    "    path_method : string ['auto'|'FW'|'D']\n",
    "        Method to use in finding shortest path.\n",
    "        'auto' : attempt to choose the best algorithm automatically.\n",
    "        'FW' : Floyd-Warshall algorithm.\n",
    "        'D' : Dijkstra's algorithm.\n",
    "    neighbors_algorithm : string ['auto'|'brute'|'kd_tree'|'ball_tree']\n",
    "        Algorithm to use for nearest neighbors search,\n",
    "        passed to neighbors.NearestNeighbors instance.\n",
    "    n_jobs : int or None, optional (default=None)\n",
    "        The number of parallel jobs to run.\n",
    "        ``None`` means 1 unless in a :obj:`joblib.parallel_backend` context.\n",
    "        ``-1`` means using all processors. See :term:`Glossary <n_jobs>`\n",
    "        for more details.\n",
    "    Attributes\n",
    "    ----------\n",
    "    embedding_ : array-like, shape (n_samples, n_components)\n",
    "        Stores the embedding vectors.\n",
    "    kernel_pca_ : object\n",
    "        `KernelPCA` object used to implement the embedding.\n",
    "    training_data_ : array-like, shape (n_samples, n_features)\n",
    "        Stores the training data.\n",
    "    nbrs_ : sklearn.neighbors.NearestNeighbors instance\n",
    "        Stores nearest neighbors instance, including BallTree or KDtree\n",
    "        if applicable.\n",
    "    dist_matrix_ : array-like, shape (n_samples, n_samples)\n",
    "        Stores the geodesic distance matrix of training data.\n",
    "    Examples\n",
    "    --------\n",
    "    >>> from sklearn.datasets import load_digits\n",
    "    >>> from sklearn.manifold import Isomap\n",
    "    >>> X, _ = load_digits(return_X_y=True)\n",
    "    >>> X.shape\n",
    "    (1797, 64)\n",
    "    >>> embedding = Isomap(n_components=2)\n",
    "    >>> X_transformed = embedding.fit_transform(X[:100])\n",
    "    >>> X_transformed.shape\n",
    "    (100, 2)\n",
    "    References\n",
    "    ----------\n",
    "    .. [1] Tenenbaum, J.B.; De Silva, V.; & Langford, J.C. A global geometric\n",
    "           framework for nonlinear dimensionality reduction. Science 290 (5500)\n",
    "    \"\"\"\n",
    "    \n",
    "    def __init__(self, n_neighbors=5, n_components=2, eigen_solver='auto',\n",
    "                 tol=0, max_iter=None, path_method='auto',\n",
    "                 neighbors_algorithm='auto', n_jobs=None):\n",
    "        self.n_neighbors = n_neighbors\n",
    "        self.n_components = n_components\n",
    "        self.eigen_solver = eigen_solver\n",
    "        self.tol = tol\n",
    "        self.max_iter = max_iter\n",
    "        self.path_method = path_method\n",
    "        self.neighbors_algorithm = neighbors_algorithm\n",
    "        self.n_jobs = n_jobs\n",
    "\n",
    "    ##_____________________________\n",
    "    ##added metric = ''minkowski'\n",
    "    ##_____________________________\n",
    "    def _fit_transform(self, X, metric = 'minkowski'):\n",
    "        X = check_array(X, accept_sparse='csr')\n",
    "        \n",
    "        ##__________________________________________________\n",
    "        ##added metric=metric\n",
    "        ##_________________________________________________\n",
    "        self.nbrs_ = NearestNeighbors(n_neighbors=self.n_neighbors,\n",
    "                                      algorithm=self.neighbors_algorithm,\n",
    "                                      n_jobs=self.n_jobs, metric=metric)\n",
    "        self.nbrs_.fit(X)\n",
    "        self.training_data_ = self.nbrs_._fit_X\n",
    "        self.kernel_pca_ = KernelPCA(n_components=self.n_components,\n",
    "                                     kernel=\"precomputed\",\n",
    "                                     eigen_solver=self.eigen_solver,\n",
    "                                     tol=self.tol, max_iter=self.max_iter,\n",
    "                                     n_jobs=self.n_jobs)\n",
    "        ##____________________________________________________\n",
    "        ##added metric=metric\n",
    "        ##____________________________________________________\n",
    "        kng = kneighbors_graph(self.nbrs_, self.n_neighbors,\n",
    "                               mode='distance', n_jobs=self.n_jobs, metric = metric)\n",
    "\n",
    "        self.dist_matrix_ = graph_shortest_path(kng,\n",
    "                                                method=self.path_method,\n",
    "                                                directed=False)\n",
    "        G = self.dist_matrix_ ** 2\n",
    "        G *= -0.5\n",
    "\n",
    "        self.embedding_ = self.kernel_pca_.fit_transform(G)\n",
    "\n",
    "    def reconstruction_error(self):\n",
    "        \"\"\"Compute the reconstruction error for the embedding.\n",
    "        Returns\n",
    "        -------\n",
    "        reconstruction_error : float\n",
    "        Notes\n",
    "        -------\n",
    "        The cost function of an isomap embedding is\n",
    "        ``E = frobenius_norm[K(D) - K(D_fit)] / n_samples``\n",
    "        Where D is the matrix of distances for the input data X,\n",
    "        D_fit is the matrix of distances for the output embedding X_fit,\n",
    "        and K is the isomap kernel:\n",
    "        ``K(D) = -0.5 * (I - 1/n_samples) * D^2 * (I - 1/n_samples)``\n",
    "        \"\"\"\n",
    "        G = -0.5 * self.dist_matrix_ ** 2\n",
    "        G_center = KernelCenterer().fit_transform(G)\n",
    "        evals = self.kernel_pca_.lambdas_\n",
    "        return np.sqrt(np.sum(G_center ** 2) - np.sum(evals ** 2)) / G.shape[0]\n",
    "\n",
    "    def fit(self, X, y=None):\n",
    "        \"\"\"Compute the embedding vectors for data X\n",
    "        Parameters\n",
    "        ----------\n",
    "        X : {array-like, sparse matrix, BallTree, KDTree, NearestNeighbors}\n",
    "            Sample data, shape = (n_samples, n_features), in the form of a\n",
    "            numpy array, precomputed tree, or NearestNeighbors\n",
    "            object.\n",
    "        y : Ignored\n",
    "        Returns\n",
    "        -------\n",
    "        self : returns an instance of self.\n",
    "        \"\"\"\n",
    "        self._fit_transform(X)\n",
    "        return self\n",
    "\n",
    "    ##_____________________________\n",
    "    ##added metric = ''minkowski'\n",
    "    ##_____________________________\n",
    "    def fit_transform(self, X, y=None, metric = 'minkowski'):\n",
    "        \"\"\"Fit the model from data in X and transform X.\n",
    "        Parameters\n",
    "        ----------\n",
    "        X : {array-like, sparse matrix, BallTree, KDTree}\n",
    "            Training vector, where n_samples in the number of samples\n",
    "            and n_features is the number of features.\n",
    "        y : Ignored\n",
    "        Returns\n",
    "        -------\n",
    "        X_new : array-like, shape (n_samples, n_components)\n",
    "        \"\"\"\n",
    "        ##_____________________________\n",
    "        ##added metric\n",
    "        ##_____________________________\n",
    "        self._fit_transform(X, metric)\n",
    "        return self.embedding_\n",
    "\n",
    "    def transform(self, X):\n",
    "        \"\"\"Transform X.\n",
    "        This is implemented by linking the points X into the graph of geodesic\n",
    "        distances of the training data. First the `n_neighbors` nearest\n",
    "        neighbors of X are found in the training data, and from these the\n",
    "        shortest geodesic distances from each point in X to each point in\n",
    "        the training data are computed in order to construct the kernel.\n",
    "        The embedding of X is the projection of this kernel onto the\n",
    "        embedding vectors of the training set.\n",
    "        Parameters\n",
    "        ----------\n",
    "        X : array-like, shape (n_samples, n_features)\n",
    "        Returns\n",
    "        -------\n",
    "        X_new : array-like, shape (n_samples, n_components)\n",
    "        \"\"\"\n",
    "        X = check_array(X)\n",
    "        distances, indices = self.nbrs_.kneighbors(X, return_distance=True)\n",
    "\n",
    "        # Create the graph of shortest distances from X to self.training_data_\n",
    "        # via the nearest neighbors of X.\n",
    "        # This can be done as a single array operation, but it potentially\n",
    "        # takes a lot of memory.  To avoid that, use a loop:\n",
    "        G_X = np.zeros((X.shape[0], self.training_data_.shape[0]))\n",
    "        for i in range(X.shape[0]):\n",
    "            G_X[i] = np.min(self.dist_matrix_[indices[i]] +\n",
    "                            distances[i][:, None], 0)\n",
    "\n",
    "        G_X **= 2\n",
    "        G_X *= -0.5\n",
    "\n",
    "        return self.kernel_pca_.transform(G_X)"
   ]
  },
  {
   "cell_type": "code",
   "execution_count": 4,
   "metadata": {},
   "outputs": [
    {
     "name": "stdout",
     "output_type": "stream",
     "text": [
      "1.426626443862915 seconds\n"
     ]
    }
   ],
   "source": [
    "# Isomap reduisant à 2d\n",
    "iso_2d = Isomap(n_components=2, n_jobs=-1)\n",
    "\n",
    "#Isomap with euclidean distance\n",
    "start = time.time()\n",
    "iso_pos_euclidean = iso_2d.fit_transform(train_data, metric = 'euclidean')\n",
    "end = time.time()\n",
    "print(end-start, 'seconds')"
   ]
  },
  {
   "cell_type": "code",
   "execution_count": 5,
   "metadata": {},
   "outputs": [
    {
     "name": "stdout",
     "output_type": "stream",
     "text": [
      "4.607657194137573 seconds\n"
     ]
    }
   ],
   "source": [
    "#Isomap with cosine similarity\n",
    "start = time.time()\n",
    "iso_pos_cosine = iso_2d.fit_transform(train_data, metric='cosine')\n",
    "end = time.time()\n",
    "print(end-start, 'seconds')"
   ]
  },
  {
   "cell_type": "markdown",
   "metadata": {},
   "source": [
    "## PCoA\n",
    "\n",
    "Algorithme de reduction de dimensionnalite"
   ]
  },
  {
   "cell_type": "code",
   "execution_count": 6,
   "metadata": {},
   "outputs": [],
   "source": [
    "seed = np.random.RandomState(seed=3)\n",
    "\n",
    "from sklearn.manifold import MDS\n",
    "\n",
    "#PCoA reducing to 2 dimensions\n",
    "mds = MDS(n_components=2, random_state=seed, dissimilarity=\"precomputed\", n_jobs=-1)"
   ]
  },
  {
   "cell_type": "markdown",
   "metadata": {},
   "source": [
    "distance euclidien "
   ]
  },
  {
   "cell_type": "code",
   "execution_count": 7,
   "metadata": {},
   "outputs": [
    {
     "name": "stdout",
     "output_type": "stream",
     "text": [
      "30.368866443634033 seconds\n"
     ]
    }
   ],
   "source": [
    "start = time.time()\n",
    "similarities_euclidean = euclidean_distances(train_data)\n",
    "pos_euclidean = mds.fit(similarities_euclidean).embedding_\n",
    "end = time.time()\n",
    "print(end-start, 'seconds')"
   ]
  },
  {
   "cell_type": "markdown",
   "metadata": {},
   "source": [
    "Similarité cosine\n",
    "\n",
    "http://scikit-learn.org/stable/modules/metrics.html#cosine-similarity"
   ]
  },
  {
   "cell_type": "code",
   "execution_count": null,
   "metadata": {},
   "outputs": [],
   "source": [
    "start = time.time()\n",
    "similarities = cosine_similarity(train_data)\n",
    "pos_cosine = mds.fit(similarities).embedding_\n",
    "end = time.time()\n",
    "print(end-start, 'seconds')"
   ]
  },
  {
   "cell_type": "markdown",
   "metadata": {},
   "source": [
    "Chi2 kernel\n",
    "\n",
    "http://scikit-learn.org/stable/modules/metrics.html#chi-squared-kernel"
   ]
  },
  {
   "cell_type": "code",
   "execution_count": null,
   "metadata": {},
   "outputs": [],
   "source": [
    "start = time.time()\n",
    "similarities = chi2_kernel(train_data)\n",
    "pos_chi2 = mds.fit(similarities).embedding_\n",
    "end = time.time()\n",
    "print(end-start, 'seconds')"
   ]
  },
  {
   "cell_type": "markdown",
   "metadata": {},
   "source": [
    "Sigmoid kernel\n",
    "\n",
    "http://scikit-learn.org/stable/modules/metrics.html#sigmoid-kernel"
   ]
  },
  {
   "cell_type": "code",
   "execution_count": null,
   "metadata": {},
   "outputs": [],
   "source": [
    "start = time.time()\n",
    "similarities = sigmoid_kernel(train_data)\n",
    "pos_sigmoid = mds.fit(similarities).embedding_\n",
    "end = time.time()\n",
    "print(end-start, 'seconds')"
   ]
  },
  {
   "cell_type": "markdown",
   "metadata": {},
   "source": [
    "RBF kernel\n",
    "\n",
    "http://scikit-learn.org/stable/modules/metrics.html#rbf-kernel"
   ]
  },
  {
   "cell_type": "code",
   "execution_count": null,
   "metadata": {},
   "outputs": [],
   "source": [
    "start = time.time()\n",
    "similarities = rbf_kernel(train_data)\n",
    "pos_rbf = mds.fit(similarities).embedding_\n",
    "end = time.time()\n",
    "print(end-start, 'seconds')"
   ]
  },
  {
   "cell_type": "markdown",
   "metadata": {},
   "source": [
    "Laplacian kernel\n",
    "\n",
    "http://scikit-learn.org/stable/modules/metrics.html#laplacian-kernel"
   ]
  },
  {
   "cell_type": "code",
   "execution_count": null,
   "metadata": {},
   "outputs": [],
   "source": [
    "start = time.time()\n",
    "similarities = laplacian_kernel(train_data)\n",
    "pos_laplacian = mds.fit(similarities).embedding_\n",
    "end = time.time()\n",
    "print(end-start, 'seconds')"
   ]
  },
  {
   "cell_type": "markdown",
   "metadata": {},
   "source": [
    "Polynomial kernel\n",
    "\n",
    "http://scikit-learn.org/stable/modules/metrics.html#polynomial-kernel"
   ]
  },
  {
   "cell_type": "code",
   "execution_count": null,
   "metadata": {},
   "outputs": [],
   "source": [
    "start = time.time()\n",
    "similarities = polynomial_kernel(train_data)\n",
    "pos_polynomial = mds.fit(similarities).embedding_\n",
    "end = time.time()\n",
    "print(end-start, 'seconds')"
   ]
  },
  {
   "cell_type": "markdown",
   "metadata": {},
   "source": [
    "### Visualize Dimensionality reduction in 2d"
   ]
  },
  {
   "cell_type": "code",
   "execution_count": 8,
   "metadata": {},
   "outputs": [
    {
     "data": {
      "image/png": "[encoded data removed]",
      "text/plain": [
       "<matplotlib.figure.Figure at 0x1223ece5b00>"
      ]
     },
     "metadata": {},
     "output_type": "display_data"
    }
   ],
   "source": [
    "import matplotlib.pyplot as plt\n",
    "%matplotlib inline\n",
    "def visualize_2d(pos,title):\n",
    "    fig, ax = plt.subplots()\n",
    "    colors=((1,0,0),(0,1,0),(0,0,1),(0.5,0.5,0),(0,0.5,0.5),(0.5,0,0.5),(0.4,0.6,0),(0.6,0.4,0),(0,0.6,0.4),(0.5,0.3,0.2),)\n",
    "    for i in range(pos.shape[0]):\n",
    "        ax.scatter(pos[i,0],pos[i,1],label = train_label[i],color=colors[train_label[i]])\n",
    "\n",
    "    #remove duplicate in legend\n",
    "    handles,labels=ax.get_legend_handles_labels()\n",
    "    handles_unique, labels_unique = [],[]\n",
    "    seen = set()\n",
    "    for i,e in enumerate(labels):\n",
    "        if e not in seen:\n",
    "            seen.add(e)\n",
    "            handles_unique.append(handles[i])\n",
    "            labels_unique.append(e)\n",
    "            if len(seen) == 10:\n",
    "                break\n",
    "\n",
    "    #sort legend\n",
    "    labels_unique, handles_unique = (list(l) for l in zip(*sorted(zip(labels_unique, handles_unique))))\n",
    "\n",
    "    plt.legend(handles_unique,labels_unique,loc=\"best\")\n",
    "    plt.title(title)\n",
    "    plt.show()\n",
    "\n",
    "    \n",
    "\n",
    "#Example: visualization of euclidean distance\n",
    "visualize_2d(pos_euclidean, \"PCoA with Euclidean distance\")\n"
   ]
  },
  {
   "cell_type": "code",
   "execution_count": 9,
   "metadata": {},
   "outputs": [
    {
     "data": {
      "image/png": "[encoded data removed]",
      "text/plain": [
       "<matplotlib.figure.Figure at 0x12243fbe5c0>"
      ]
     },
     "metadata": {},
     "output_type": "display_data"
    }
   ],
   "source": [
    "visualize_2d(iso_pos_euclidean, 'Isomap with Euclidean distance')"
   ]
  },
  {
   "cell_type": "code",
   "execution_count": 10,
   "metadata": {},
   "outputs": [
    {
     "data": {
      "image/png": "[encoded data removed]",
      "text/plain": [
       "<matplotlib.figure.Figure at 0x12245f27438>"
      ]
     },
     "metadata": {},
     "output_type": "display_data"
    }
   ],
   "source": [
    "visualize_2d(iso_pos_cosine, 'Isomap with Cosine similarity')"
   ]
  },
  {
   "cell_type": "code",
   "execution_count": null,
   "metadata": {},
   "outputs": [],
   "source": []
  },
  {
   "cell_type": "code",
   "execution_count": null,
   "metadata": {},
   "outputs": [],
   "source": []
  },
  {
   "cell_type": "code",
   "execution_count": null,
   "metadata": {},
   "outputs": [],
   "source": []
  },
  {
   "cell_type": "code",
   "execution_count": null,
   "metadata": {},
   "outputs": [],
   "source": []
  }
 ],
 "metadata": {
  "kernelspec": {
   "display_name": "Python 3",
   "language": "python",
   "name": "python3"
  },
  "language_info": {
   "codemirror_mode": {
    "name": "ipython",
    "version": 3
   },
   "file_extension": ".py",
   "mimetype": "text/x-python",
   "name": "python",
   "nbconvert_exporter": "python",
   "pygments_lexer": "ipython3",
   "version": "3.6.4"
  }
 },
 "nbformat": 4,
 "nbformat_minor": 2
}
