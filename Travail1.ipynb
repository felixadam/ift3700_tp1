{
 "cells": [
  {
   "cell_type": "markdown",
   "metadata": {},
   "source": [
    "# TP1 de IFT-3700\n",
    "Mehdi Aqdim\n",
    "\n",
    "Maxime Daigle\n",
    "\n",
    "Adam Félix\n",
    "\n",
    "Jonathan Graveline"
   ]
  },
  {
   "cell_type": "markdown",
   "metadata": {},
   "source": [
    "## Preprocessing\n",
    "\n",
    "Charger les données\n",
    "\n",
    "et reduire les pixels a noir ou blanc (0 ou 1)"
   ]
  },
  {
   "cell_type": "code",
   "execution_count": 2,
   "metadata": {},
   "outputs": [
    {
     "data": {
      "text/plain": [
       "\"\\n    Décommentez les 5 lignes suivantes pour\\n        avoir des valeurs binaires\\n        (10 c'est le treshold... 128 serait peut-être mieux)\\n\""
      ]
     },
     "execution_count": 2,
     "metadata": {},
     "output_type": "execute_result"
    }
   ],
   "source": [
    "import numpy as np\n",
    "\n",
    "from sklearn.preprocessing import Binarizer\n",
    "\n",
    "\"\"\"\n",
    "    Mettre `skiprows=1` pour avoir toutes les données.\n",
    "    (Mais c'est très long surtout pour faire des tests.)\n",
    "\"\"\"\n",
    "mnist_train = np.loadtxt('mnist_train.csv', dtype='int', delimiter=',', skiprows=59001)\n",
    "mnist_test  = np.loadtxt('mnist_test.csv', dtype='int', delimiter=',', skiprows=9501)\n",
    "\n",
    "#print(mnist_train[0])\n",
    "\n",
    "train_label = mnist_train[:,0]\n",
    "train_data  = mnist_train[:,1:]\n",
    "\n",
    "test_label  = mnist_test[:,0]\n",
    "test_data   = mnist_test[:,1:]\n",
    "\n",
    "#print(train_data.shape[1])\n",
    "\n",
    "\"\"\"\n",
    "    Décommentez les 5 lignes suivantes pour\n",
    "        avoir des valeurs binaires\n",
    "        (10 c'est le treshold... 128 serait peut-être mieux)\n",
    "\"\"\"\n",
    "\n",
    "#pp = Binarizer(10)\n",
    "\n",
    "#pp.fit(train_data)\n",
    "#train_data_d1 = pp.transform(train_data)\n",
    "\n",
    "#pp.fit(test_data)\n",
    "#test_data_d1  = pp.transform(test_data)\n",
    "\n",
    "#print(train_data.shape[1])\n",
    "#print(train_data[0])"
   ]
  },
  {
   "cell_type": "markdown",
   "metadata": {},
   "source": [
    "## Mesures"
   ]
  },
  {
   "cell_type": "code",
   "execution_count": 3,
   "metadata": {},
   "outputs": [],
   "source": [
    "# distance euclidien\n",
    "from sklearn.metrics import euclidean_distances\n",
    "\n",
    "# Similarité cosine\n",
    "# http://scikit-learn.org/stable/modules/metrics.html#cosine-similarity\n",
    "from sklearn.metrics.pairwise import cosine_similarity\n",
    "\n",
    "# Chi2 kernel\n",
    "# http://scikit-learn.org/stable/modules/metrics.html#chi-squared-kernel\n",
    "from sklearn.metrics.pairwise import chi2_kernel\n",
    "\n",
    "# Sigmoid kernel\n",
    "# http://scikit-learn.org/stable/modules/metrics.html#sigmoid-kernel\n",
    "from sklearn.metrics.pairwise import sigmoid_kernel\n",
    "\n",
    "# RBF kernel\n",
    "# http://scikit-learn.org/stable/modules/metrics.html#rbf-kernel\n",
    "from sklearn.metrics.pairwise import rbf_kernel\n",
    "\n",
    "# Laplacian kernel\n",
    "# http://scikit-learn.org/stable/modules/metrics.html#laplacian-kernel\n",
    "from sklearn.metrics.pairwise import laplacian_kernel\n",
    "\n",
    "# Polynomial kernel\n",
    "# http://scikit-learn.org/stable/modules/metrics.html#polynomial-kernel\n",
    "from sklearn.metrics.pairwise import polynomial_kernel\n",
    "\n"
   ]
  },
  {
   "cell_type": "markdown",
   "metadata": {},
   "source": [
    "## Distance, essai 1: density\n",
    "\n",
    "C'est une facon de considerer les points voisins dans le calcul. Ce qui je crois devrais aider..."
   ]
  },
  {
   "cell_type": "markdown",
   "metadata": {},
   "source": [
    "Calcul de la densite a chaque point:"
   ]
  },
  {
   "cell_type": "code",
   "execution_count": 2,
   "metadata": {},
   "outputs": [],
   "source": [
    "def in_bounds(pi, x, y):\n",
    "    ret = pi + x + (y * 28)\n",
    "    if ret > 783:\n",
    "        return 783\n",
    "    elif ret < 0:\n",
    "        return 0\n",
    "    else:\n",
    "        return ret\n",
    "\n",
    "def get_density(data, radius):\n",
    "    rdata = []\n",
    "    rrange = range(-radius,radius+1)\n",
    "    for ei in range(data.shape[0]):\n",
    "        ex = data[ei]\n",
    "        nex = []\n",
    "        for pi in range(ex.shape[0]):\n",
    "            nex.append(sum([ex[in_bounds(pi,x,y)] for x in rrange for y in rrange]))\n",
    "        rdata.append(nex)\n",
    "    return np.array(rdata)\n",
    "\n",
    "train_data_d1 = get_density(train_data, 1)\n",
    "test_data_d1  = get_density(test_data, 1)\n",
    "\n",
    "#print(pp_data.shape[1])\n",
    "#print(pp_data[0])"
   ]
  },
  {
   "cell_type": "code",
   "execution_count": 3,
   "metadata": {},
   "outputs": [
    {
     "name": "stdout",
     "output_type": "stream",
     "text": [
      "Distance of train_data[0] to itself == 0\n"
     ]
    }
   ],
   "source": [
    "\n",
    "\"\"\"\n",
    "    Note 1: This is useless, data set is already transformed,\n",
    "        so we may use euclidean distance directly on density map.\n",
    "    \n",
    "    Note 2: Built-in euclidean is way faster! Better hack data set\n",
    "        and use built-in euclidean.\n",
    "\"\"\"\n",
    "def distance_1(lhs, rhs):\n",
    "    #assert(lhs.shape == rhs.shape)\n",
    "    ret = 0\n",
    "    for pi in range(lhs.shape[0]):\n",
    "        ret += abs(lhs[pi] - rhs[pi])\n",
    "    return ret\n",
    "\n",
    "print('Distance of train_data[0] to itself == %d' % distance_1(train_data[0],train_data[0]))"
   ]
  },
  {
   "cell_type": "markdown",
   "metadata": {},
   "source": [
    "## KNN\n",
    "\n",
    "Algorithme de classification"
   ]
  },
  {
   "cell_type": "code",
   "execution_count": 4,
   "metadata": {},
   "outputs": [],
   "source": [
    "from sklearn.neighbors import NearestNeighbors\n",
    "\n",
    "def knn(n, r, d):\n",
    "    return NearestNeighbors(n, r, metric=d, n_jobs=6)"
   ]
  },
  {
   "cell_type": "markdown",
   "metadata": {},
   "source": [
    "## Evaluation of performance:"
   ]
  },
  {
   "cell_type": "code",
   "execution_count": 5,
   "metadata": {},
   "outputs": [],
   "source": [
    "def get_best(idxs, train_label):\n",
    "    counts = np.bincount(train_label[idxs])\n",
    "    return np.argmax(counts)\n",
    "\n",
    "def perf_knn(train_set, train_label, test_set, test_label):\n",
    "    n_tests = test_label.shape[0]\n",
    "    \n",
    "    algo = knn(11, 1.0, 'euclidean')\n",
    "    algo.fit(train_set)\n",
    "    \n",
    "    idxs = algo.kneighbors(test_set, return_distance=False)\n",
    "    \n",
    "    ret = sum([(get_best(idxs[idx], train_label) == test_label[idx]) for idx in range(n_tests)])\n",
    "    \n",
    "    return ((ret * 100.0) / test_set.shape[0])"
   ]
  },
  {
   "cell_type": "code",
   "execution_count": 6,
   "metadata": {},
   "outputs": [
    {
     "name": "stdout",
     "output_type": "stream",
     "text": [
      "perf_knn (distance_1) == 90.0000 %\n",
      "perf_knn (euclidean)  == 89.4000 %\n"
     ]
    }
   ],
   "source": [
    "\"\"\" Avec les données modifiées. \"\"\"\n",
    "result = perf_knn(train_data_d1, train_label, test_data_d1, test_label)\n",
    "\n",
    "print('perf_knn (distance_1) == %.4f %%' % result)\n",
    "\n",
    "\"\"\" Avec les données originales. \"\"\"\n",
    "result = perf_knn(train_data, train_label, test_data, test_label)\n",
    "\n",
    "print('perf_knn (euclidean)  == %.4f %%' % result)"
   ]
  },
  {
   "cell_type": "markdown",
   "metadata": {},
   "source": [
    "## Isomap\n",
    "\n",
    "Algorithme de reduction de dimensionnalite"
   ]
  },
  {
   "cell_type": "code",
   "execution_count": 7,
   "metadata": {},
   "outputs": [],
   "source": [
    "from sklearn.manifold import Isomap\n",
    "\n",
    "\"\"\"\n",
    "    À revoir pour ajouter notre distance.\n",
    "\"\"\"\n",
    "\n",
    "isomap_2d = Isomap(n_components=2, n_jobs=-1)"
   ]
  },
  {
   "cell_type": "code",
   "execution_count": 19,
   "metadata": {},
   "outputs": [
    {
     "name": "stdout",
     "output_type": "stream",
     "text": [
      "(25, 25)\n"
     ]
    }
   ],
   "source": []
  },
  {
   "cell_type": "markdown",
   "metadata": {},
   "source": [
    "## PCoA\n",
    "\n",
    "Algorithme de reduction de dimensionnalite"
   ]
  },
  {
   "cell_type": "code",
   "execution_count": 4,
   "metadata": {},
   "outputs": [],
   "source": [
    "import time\n",
    "seed = np.random.RandomState(seed=3)\n",
    "\n",
    "from sklearn.manifold import MDS\n",
    "\n",
    "#PCoA reducing to 2 dimensions\n",
    "mds = MDS(n_components=2, random_state=seed, dissimilarity=\"precomputed\", n_jobs=-1)"
   ]
  },
  {
   "cell_type": "markdown",
   "metadata": {},
   "source": [
    "distance euclidien "
   ]
  },
  {
   "cell_type": "code",
   "execution_count": 6,
   "metadata": {},
   "outputs": [
    {
     "name": "stdout",
     "output_type": "stream",
     "text": [
      "30.29402756690979 seconds\n"
     ]
    }
   ],
   "source": [
    "start = time.time()\n",
    "similarities_euclidean = euclidean_distances(train_data)\n",
    "pos_euclidean = mds.fit(similarities_euclidean).embedding_\n",
    "end = time.time()\n",
    "print(end-start, 'seconds')"
   ]
  },
  {
   "cell_type": "markdown",
   "metadata": {},
   "source": [
    "Similarité cosine\n",
    "\n",
    "http://scikit-learn.org/stable/modules/metrics.html#cosine-similarity"
   ]
  },
  {
   "cell_type": "code",
   "execution_count": 8,
   "metadata": {},
   "outputs": [
    {
     "name": "stdout",
     "output_type": "stream",
     "text": [
      "9.402865886688232 seconds\n"
     ]
    }
   ],
   "source": [
    "start = time.time()\n",
    "similarities = cosine_similarity(train_data)\n",
    "pos_cosine = mds.fit(similarities).embedding_\n",
    "end = time.time()\n",
    "print(end-start, 'seconds')"
   ]
  },
  {
   "cell_type": "markdown",
   "metadata": {},
   "source": [
    "Chi2 kernel\n",
    "\n",
    "http://scikit-learn.org/stable/modules/metrics.html#chi-squared-kernel"
   ]
  },
  {
   "cell_type": "code",
   "execution_count": 9,
   "metadata": {},
   "outputs": [
    {
     "name": "stdout",
     "output_type": "stream",
     "text": [
      "28.410027742385864 seconds\n"
     ]
    }
   ],
   "source": [
    "start = time.time()\n",
    "similarities = chi2_kernel(train_data)\n",
    "pos_chi2 = mds.fit(similarities).embedding_\n",
    "end = time.time()\n",
    "print(end-start, 'seconds')"
   ]
  },
  {
   "cell_type": "markdown",
   "metadata": {},
   "source": [
    "Sigmoid kernel\n",
    "\n",
    "http://scikit-learn.org/stable/modules/metrics.html#sigmoid-kernel"
   ]
  },
  {
   "cell_type": "code",
   "execution_count": 10,
   "metadata": {},
   "outputs": [
    {
     "name": "stdout",
     "output_type": "stream",
     "text": [
      "4.367327451705933 seconds\n"
     ]
    }
   ],
   "source": [
    "start = time.time()\n",
    "similarities = sigmoid_kernel(train_data)\n",
    "pos_sigmoid = mds.fit(similarities).embedding_\n",
    "end = time.time()\n",
    "print(end-start, 'seconds')"
   ]
  },
  {
   "cell_type": "markdown",
   "metadata": {},
   "source": [
    "RBF kernel\n",
    "\n",
    "http://scikit-learn.org/stable/modules/metrics.html#rbf-kernel"
   ]
  },
  {
   "cell_type": "code",
   "execution_count": 11,
   "metadata": {},
   "outputs": [
    {
     "name": "stdout",
     "output_type": "stream",
     "text": [
      "2.8483846187591553 seconds\n"
     ]
    }
   ],
   "source": [
    "start = time.time()\n",
    "similarities = rbf_kernel(train_data)\n",
    "pos_rbf = mds.fit(similarities).embedding_\n",
    "end = time.time()\n",
    "print(end-start, 'seconds')"
   ]
  },
  {
   "cell_type": "markdown",
   "metadata": {},
   "source": [
    "Laplacian kernel\n",
    "\n",
    "http://scikit-learn.org/stable/modules/metrics.html#laplacian-kernel"
   ]
  },
  {
   "cell_type": "code",
   "execution_count": 12,
   "metadata": {},
   "outputs": [
    {
     "name": "stdout",
     "output_type": "stream",
     "text": [
      "14.948047637939453 seconds\n"
     ]
    }
   ],
   "source": [
    "start = time.time()\n",
    "similarities = laplacian_kernel(train_data)\n",
    "pos_laplacian = mds.fit(similarities).embedding_\n",
    "end = time.time()\n",
    "print(end-start, 'seconds')"
   ]
  },
  {
   "cell_type": "markdown",
   "metadata": {},
   "source": [
    "Polynomial kernel\n",
    "\n",
    "http://scikit-learn.org/stable/modules/metrics.html#polynomial-kernel"
   ]
  },
  {
   "cell_type": "code",
   "execution_count": 13,
   "metadata": {},
   "outputs": [
    {
     "name": "stdout",
     "output_type": "stream",
     "text": [
      "3.1017091274261475 seconds\n"
     ]
    }
   ],
   "source": [
    "start = time.time()\n",
    "similarities = polynomial_kernel(train_data)\n",
    "pos_polynomial = mds.fit(similarities).embedding_\n",
    "end = time.time()\n",
    "print(end-start, 'seconds')"
   ]
  },
  {
   "cell_type": "markdown",
   "metadata": {},
   "source": [
    "Visualize PCoA in 2d"
   ]
  },
  {
   "cell_type": "code",
   "execution_count": 41,
   "metadata": {},
   "outputs": [
    {
     "data": {
      "image/png": "[encoded data removed]",
      "text/plain": [
       "<matplotlib.figure.Figure at 0x160bc15a710>"
      ]
     },
     "metadata": {},
     "output_type": "display_data"
    }
   ],
   "source": [
    "import matplotlib.pyplot as plt\n",
    "%matplotlib inline\n",
    "def visualize_pcoa_2d(pos,title):\n",
    "    fig, ax = plt.subplots()\n",
    "    colors=((1,0,0),(0,1,0),(0,0,1),(0.5,0.5,0),(0,0.5,0.5),(0.5,0,0.5),(0.4,0.6,0),(0.6,0.4,0),(0,0.6,0.4),(0.5,0.3,0.2),)\n",
    "    for i in range(pos.shape[0]):\n",
    "        ax.scatter(pos[i,0],pos[i,1],label = train_label[i],color=colors[train_label[i]])\n",
    "\n",
    "    #remove duplicate in legend\n",
    "    handles,labels=ax.get_legend_handles_labels()\n",
    "    handles_unique, labels_unique = [],[]\n",
    "    seen = set()\n",
    "    for i,e in enumerate(labels):\n",
    "        if e not in seen:\n",
    "            seen.add(e)\n",
    "            handles_unique.append(handles[i])\n",
    "            labels_unique.append(e)\n",
    "            if len(seen) == 10:\n",
    "                break\n",
    "\n",
    "    #sort legend\n",
    "    labels_unique, handles_unique = (list(l) for l in zip(*sorted(zip(labels_unique, handles_unique))))\n",
    "\n",
    "    plt.legend(handles_unique,labels_unique,loc=\"best\")\n",
    "    plt.title(title)\n",
    "    plt.show()\n",
    "\n",
    "    \n",
    "\n",
    "#Example: visualization of euclidean distance\n",
    "visualize_pcoa_2d(pos_euclidean, \"Euclidean distance\")\n"
   ]
  },
  {
   "cell_type": "code",
   "execution_count": null,
   "metadata": {},
   "outputs": [],
   "source": []
  },
  {
   "cell_type": "code",
   "execution_count": null,
   "metadata": {},
   "outputs": [],
   "source": []
  },
  {
   "cell_type": "code",
   "execution_count": null,
   "metadata": {},
   "outputs": [],
   "source": []
  },
  {
   "cell_type": "code",
   "execution_count": null,
   "metadata": {},
   "outputs": [],
   "source": []
  },
  {
   "cell_type": "code",
   "execution_count": null,
   "metadata": {},
   "outputs": [],
   "source": []
  },
  {
   "cell_type": "code",
   "execution_count": null,
   "metadata": {},
   "outputs": [],
   "source": []
  }
 ],
 "metadata": {
  "kernelspec": {
   "display_name": "Python 3",
   "language": "python",
   "name": "python3"
  },
  "language_info": {
   "codemirror_mode": {
    "name": "ipython",
    "version": 3
   },
   "file_extension": ".py",
   "mimetype": "text/x-python",
   "name": "python",
   "nbconvert_exporter": "python",
   "pygments_lexer": "ipython3",
   "version": "3.6.4"
  }
 },
 "nbformat": 4,
 "nbformat_minor": 2
}
