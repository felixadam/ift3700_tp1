{
 "cells": [
  {
   "cell_type": "code",
   "execution_count": 198,
   "metadata": {},
   "outputs": [],
   "source": [
    "from pyclustering.cluster.kmedoids import kmedoids\n",
    "from pyclustering.utils import calculate_distance_matrix\n",
    "from random import randint\n",
    "from pyclustering.utils.metric import type_metric, distance_metric;\n",
    "import pyclustering\n",
    "from sklearn.preprocessing import Binarizer\n",
    "import numpy as np\n",
    "import pandas as pd"
   ]
  },
  {
   "cell_type": "markdown",
   "metadata": {},
   "source": [
    "# Chargement des données"
   ]
  },
  {
   "cell_type": "code",
   "execution_count": 199,
   "metadata": {},
   "outputs": [],
   "source": [
    "# Chargement des données\n",
    "mnist_test = pd.read_csv('mnist_test.csv', nrows=500)\n",
    "df = pd.DataFrame(data=mnist_test)\n",
    "df_x = df.drop(df.columns[0], axis=1)\n",
    "df_y = df[df.columns[0]]\n",
    "\n",
    "# Prétraitement binaire qui transforme tous les pixels <= 127 à 0 et > 127 à 1\n",
    "#pp = Binarizer(127)\n",
    "#pp.fit(x_test)\n",
    "#mnist_test_bin = pp.transform(mnist_test)"
   ]
  },
  {
   "cell_type": "markdown",
   "metadata": {},
   "source": [
    "# Algorithme des K-Médoïdes"
   ]
  },
  {
   "cell_type": "code",
   "execution_count": 100,
   "metadata": {},
   "outputs": [],
   "source": [
    "# Matrice de distance pour réduire le temps de calcul\n",
    "#matrix = calculate_distance_matrix(x_test)\n",
    "\n",
    "# Type de distance\n",
    "metric = distance_metric(type_metric.EUCLIDEAN_SQUARE)\n",
    "\n",
    "# Paramètre k\n",
    "k = 10\n",
    "\n",
    "# Initialisation aléatoire des médoîdes\n",
    "initial_medoids = []\n",
    "for x in range(0, k):\n",
    "    initial_medoids.append(randint(0,len(df_x.values.tolist())))\n",
    "\n",
    "# Initialisation de l'algorithme des K-médoîdes\n",
    "kmedoids_instance = kmedoids(df_x.values.tolist(), initial_medoids, metric=metric)\n",
    "\n",
    "# Analyse des cluster et obtention des résultats\n",
    "kmedoids_instance.process();\n",
    "clusters = kmedoids_instance.get_clusters()\n",
    "\n",
    "# Imprime les clusters\n",
    "#print(clusters)"
   ]
  },
  {
   "cell_type": "markdown",
   "metadata": {},
   "source": [
    "# Conversion des cluster en DataFrame"
   ]
  },
  {
   "cell_type": "code",
   "execution_count": 195,
   "metadata": {},
   "outputs": [
    {
     "name": "stdout",
     "output_type": "stream",
     "text": [
      "   0    1    2    3    4    5    6    7    8    9   ...   105  106  107  108  \\\n",
      "0   35   72   82  106  147  172  183  199  225  278 ...    -1   -1   -1   -1   \n",
      "1  307    0   17   34   36   41   42   61   73   75 ...    -1   -1   -1   -1   \n",
      "2  170    7   19   21   23   24   47   52   62   65 ...    -1   -1   -1   -1   \n",
      "3  148   10   13   28   45   51   55   81   90   98 ...    -1   -1   -1   -1   \n",
      "4  176    2    5   15   18   32   38   40   43   44 ...   445  447  453  456   \n",
      "5  161   33   50  130  131  192  197  384  446   -1 ...    -1   -1   -1   -1   \n",
      "6  105    4    8    9   12   16   26   27   48   49 ...    -1   -1   -1   -1   \n",
      "7  312    3   25   71  200  215  222  271  311  327 ...    -1   -1   -1   -1   \n",
      "8  472   11   22   54   66   88  100  138  156  164 ...    -1   -1   -1   -1   \n",
      "9  330    1    6   14   20   29   30   31   37   39 ...    -1   -1   -1   -1   \n",
      "\n",
      "   109  110  111  112  113  114  \n",
      "0   -1   -1   -1   -1   -1   -1  \n",
      "1   -1   -1   -1   -1   -1   -1  \n",
      "2   -1   -1   -1   -1   -1   -1  \n",
      "3   -1   -1   -1   -1   -1   -1  \n",
      "4  473  480  483  489  490  499  \n",
      "5   -1   -1   -1   -1   -1   -1  \n",
      "6   -1   -1   -1   -1   -1   -1  \n",
      "7   -1   -1   -1   -1   -1   -1  \n",
      "8   -1   -1   -1   -1   -1   -1  \n",
      "9   -1   -1   -1   -1   -1   -1  \n",
      "\n",
      "[10 rows x 115 columns]\n",
      "115\n"
     ]
    }
   ],
   "source": [
    "df_clusters = pd.DataFrame(data=clusters)\n",
    "\n",
    "# Gestion des NaN\n",
    "# pandas dataframe transformait certaines colonnes en float pour une raison inconnue alors ceci est mon workaround pour le moment\n",
    "df_clusters = df_clusters.fillna(-1)\n",
    "df_clusters = df_clusters.astype(int)\n",
    "\n",
    "# Imprime le DataFrame des clusters\n",
    "print(df_clusters)"
   ]
  },
  {
   "cell_type": "markdown",
   "metadata": {},
   "source": [
    "# Analyse des résultats"
   ]
  },
  {
   "cell_type": "code",
   "execution_count": 197,
   "metadata": {},
   "outputs": [
    {
     "name": "stdout",
     "output_type": "stream",
     "text": [
      "--------------------\n",
      "2\n",
      "2\n",
      "2\n",
      "2\n",
      "2\n",
      "2\n",
      "0\n",
      "2\n",
      "2\n",
      "2\n",
      "--------------------\n",
      "7\n",
      "7\n",
      "7\n",
      "7\n",
      "7\n",
      "7\n",
      "4\n",
      "8\n",
      "9\n",
      "7\n",
      "--------------------\n",
      "4\n",
      "9\n",
      "4\n",
      "6\n",
      "5\n",
      "4\n",
      "2\n",
      "5\n",
      "9\n",
      "4\n",
      "--------------------\n",
      "0\n",
      "0\n",
      "0\n",
      "0\n",
      "5\n",
      "3\n",
      "0\n",
      "6\n",
      "3\n",
      "6\n",
      "--------------------\n",
      "1\n",
      "1\n",
      "1\n",
      "5\n",
      "3\n",
      "3\n",
      "2\n",
      "1\n",
      "2\n",
      "3\n",
      "--------------------\n",
      "6\n",
      "4\n",
      "6\n",
      "6\n",
      "6\n",
      "0\n",
      "6\n",
      "6\n",
      "6\n",
      "6\n",
      "--------------------\n",
      "9\n",
      "4\n",
      "5\n",
      "9\n",
      "9\n",
      "9\n",
      "7\n",
      "4\n",
      "4\n",
      "4\n",
      "--------------------\n",
      "0\n",
      "0\n",
      "0\n",
      "0\n",
      "3\n",
      "0\n",
      "2\n",
      "0\n",
      "0\n",
      "0\n",
      "--------------------\n",
      "6\n",
      "6\n",
      "6\n",
      "6\n",
      "6\n",
      "6\n",
      "6\n",
      "6\n",
      "6\n",
      "6\n",
      "--------------------\n",
      "1\n",
      "2\n",
      "4\n",
      "1\n",
      "9\n",
      "--------------------\n"
     ]
    },
    {
     "ename": "KeyError",
     "evalue": "10",
     "output_type": "error",
     "traceback": [
      "\u001b[1;31m---------------------------------------------------------------------------\u001b[0m",
      "\u001b[1;31mKeyError\u001b[0m                                  Traceback (most recent call last)",
      "\u001b[1;32m<ipython-input-197-eb0ccdf159e4>\u001b[0m in \u001b[0;36m<module>\u001b[1;34m()\u001b[0m\n\u001b[0;32m      6\u001b[0m             \u001b[0mprint\u001b[0m\u001b[1;33m(\u001b[0m\u001b[1;34m\"--------------------\"\u001b[0m\u001b[1;33m)\u001b[0m\u001b[1;33m\u001b[0m\u001b[0m\n\u001b[0;32m      7\u001b[0m         \u001b[1;32melse\u001b[0m\u001b[1;33m:\u001b[0m\u001b[1;33m\u001b[0m\u001b[0m\n\u001b[1;32m----> 8\u001b[1;33m             \u001b[0mprint\u001b[0m\u001b[1;33m(\u001b[0m\u001b[0mdf_y\u001b[0m\u001b[1;33m.\u001b[0m\u001b[0miloc\u001b[0m\u001b[1;33m[\u001b[0m\u001b[0mdf_clusters\u001b[0m\u001b[1;33m[\u001b[0m\u001b[0mj\u001b[0m\u001b[1;33m]\u001b[0m\u001b[1;33m[\u001b[0m\u001b[0mi\u001b[0m\u001b[1;33m]\u001b[0m\u001b[1;33m]\u001b[0m\u001b[1;33m)\u001b[0m\u001b[1;33m\u001b[0m\u001b[0m\n\u001b[0m",
      "\u001b[1;32m~\\Anaconda3\\lib\\site-packages\\pandas\\core\\series.py\u001b[0m in \u001b[0;36m__getitem__\u001b[1;34m(self, key)\u001b[0m\n\u001b[0;32m    765\u001b[0m         \u001b[0mkey\u001b[0m \u001b[1;33m=\u001b[0m \u001b[0mcom\u001b[0m\u001b[1;33m.\u001b[0m\u001b[0m_apply_if_callable\u001b[0m\u001b[1;33m(\u001b[0m\u001b[0mkey\u001b[0m\u001b[1;33m,\u001b[0m \u001b[0mself\u001b[0m\u001b[1;33m)\u001b[0m\u001b[1;33m\u001b[0m\u001b[0m\n\u001b[0;32m    766\u001b[0m         \u001b[1;32mtry\u001b[0m\u001b[1;33m:\u001b[0m\u001b[1;33m\u001b[0m\u001b[0m\n\u001b[1;32m--> 767\u001b[1;33m             \u001b[0mresult\u001b[0m \u001b[1;33m=\u001b[0m \u001b[0mself\u001b[0m\u001b[1;33m.\u001b[0m\u001b[0mindex\u001b[0m\u001b[1;33m.\u001b[0m\u001b[0mget_value\u001b[0m\u001b[1;33m(\u001b[0m\u001b[0mself\u001b[0m\u001b[1;33m,\u001b[0m \u001b[0mkey\u001b[0m\u001b[1;33m)\u001b[0m\u001b[1;33m\u001b[0m\u001b[0m\n\u001b[0m\u001b[0;32m    768\u001b[0m \u001b[1;33m\u001b[0m\u001b[0m\n\u001b[0;32m    769\u001b[0m             \u001b[1;32mif\u001b[0m \u001b[1;32mnot\u001b[0m \u001b[0mis_scalar\u001b[0m\u001b[1;33m(\u001b[0m\u001b[0mresult\u001b[0m\u001b[1;33m)\u001b[0m\u001b[1;33m:\u001b[0m\u001b[1;33m\u001b[0m\u001b[0m\n",
      "\u001b[1;32m~\\Anaconda3\\lib\\site-packages\\pandas\\core\\indexes\\base.py\u001b[0m in \u001b[0;36mget_value\u001b[1;34m(self, series, key)\u001b[0m\n\u001b[0;32m   3116\u001b[0m         \u001b[1;32mtry\u001b[0m\u001b[1;33m:\u001b[0m\u001b[1;33m\u001b[0m\u001b[0m\n\u001b[0;32m   3117\u001b[0m             return self._engine.get_value(s, k,\n\u001b[1;32m-> 3118\u001b[1;33m                                           tz=getattr(series.dtype, 'tz', None))\n\u001b[0m\u001b[0;32m   3119\u001b[0m         \u001b[1;32mexcept\u001b[0m \u001b[0mKeyError\u001b[0m \u001b[1;32mas\u001b[0m \u001b[0me1\u001b[0m\u001b[1;33m:\u001b[0m\u001b[1;33m\u001b[0m\u001b[0m\n\u001b[0;32m   3120\u001b[0m             \u001b[1;32mif\u001b[0m \u001b[0mlen\u001b[0m\u001b[1;33m(\u001b[0m\u001b[0mself\u001b[0m\u001b[1;33m)\u001b[0m \u001b[1;33m>\u001b[0m \u001b[1;36m0\u001b[0m \u001b[1;32mand\u001b[0m \u001b[0mself\u001b[0m\u001b[1;33m.\u001b[0m\u001b[0minferred_type\u001b[0m \u001b[1;32min\u001b[0m \u001b[1;33m[\u001b[0m\u001b[1;34m'integer'\u001b[0m\u001b[1;33m,\u001b[0m \u001b[1;34m'boolean'\u001b[0m\u001b[1;33m]\u001b[0m\u001b[1;33m:\u001b[0m\u001b[1;33m\u001b[0m\u001b[0m\n",
      "\u001b[1;32mpandas\\_libs\\index.pyx\u001b[0m in \u001b[0;36mpandas._libs.index.IndexEngine.get_value\u001b[1;34m()\u001b[0m\n",
      "\u001b[1;32mpandas\\_libs\\index.pyx\u001b[0m in \u001b[0;36mpandas._libs.index.IndexEngine.get_value\u001b[1;34m()\u001b[0m\n",
      "\u001b[1;32mpandas\\_libs\\index.pyx\u001b[0m in \u001b[0;36mpandas._libs.index.IndexEngine.get_loc\u001b[1;34m()\u001b[0m\n",
      "\u001b[1;32mpandas\\_libs\\hashtable_class_helper.pxi\u001b[0m in \u001b[0;36mpandas._libs.hashtable.Int64HashTable.get_item\u001b[1;34m()\u001b[0m\n",
      "\u001b[1;32mpandas\\_libs\\hashtable_class_helper.pxi\u001b[0m in \u001b[0;36mpandas._libs.hashtable.Int64HashTable.get_item\u001b[1;34m()\u001b[0m\n",
      "\u001b[1;31mKeyError\u001b[0m: 10"
     ]
    }
   ],
   "source": [
    "# J'essaie en ce moment de trouver la façon de mesurer la validité des clusters et la performance de catégorisation.. \n",
    "for i in range(0, len(df_clusters.columns)):\n",
    "    print(\"--------------------\")\n",
    "    for j in range(0, len(df_clusters.index)):\n",
    "        if df_clusters.iloc[j][i] < 0:\n",
    "            break\n",
    "            print(\"--------------------\")\n",
    "        else:\n",
    "            print(df_y.iloc[df_clusters[j][i]])"
   ]
  }
 ],
 "metadata": {
  "kernelspec": {
   "display_name": "Python 3",
   "language": "python",
   "name": "python3"
  },
  "language_info": {
   "codemirror_mode": {
    "name": "ipython",
    "version": 3
   },
   "file_extension": ".py",
   "mimetype": "text/x-python",
   "name": "python",
   "nbconvert_exporter": "python",
   "pygments_lexer": "ipython3",
   "version": "3.7.0"
  }
 },
 "nbformat": 4,
 "nbformat_minor": 2
}
