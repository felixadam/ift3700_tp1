{
 "cells": [
  {
   "cell_type": "markdown",
   "metadata": {},
   "source": [
    "# IFT-3700 Travail 1\n",
    "\n",
    "Félix Adam\n",
    "\n",
    "Mehdi Aqdim\n",
    "\n",
    "Maxime Daigle\n",
    "\n",
    "Jonathan Graveline"
   ]
  },
  {
   "cell_type": "markdown",
   "metadata": {},
   "source": [
    "## Préparation"
   ]
  },
  {
   "cell_type": "code",
   "execution_count": 92,
   "metadata": {},
   "outputs": [],
   "source": [
    "import numpy as np\n",
    "import random as rand\n",
    "import time\n",
    "import matplotlib.pyplot as plt\n",
    "import scipy.stats as stats\n",
    "import warnings #remove warning from scipy.stats\n",
    "warnings.filterwarnings(\"ignore\", category=RuntimeWarning) \n",
    "seed = np.random.RandomState(seed=3)\n",
    "%matplotlib inline\n",
    "\n",
    "#Mettre 'skiprows=1' pour avoir toutes les données.\n",
    "\n",
    "#take multiple size of training dataset (1000, 5000, 10000) and test (500, 1000, 1500)\n",
    "multiple_train_data = []\n",
    "multiple_train_label = []\n",
    "multiple_test_data = []\n",
    "multiple_test_label = []\n",
    "\n",
    "training_size = [59001, 55001, 50001]\n",
    "test_size = [9501, 9001,8501]\n",
    "\n",
    "for i in range(len(training_size)):\n",
    "    mnist_train = np.loadtxt('mnist_train.csv', dtype='int', delimiter=',', skiprows=training_size[i])\n",
    "    mnist_test  = np.loadtxt('mnist_test.csv', dtype='int', delimiter=',', skiprows=test_size[i])\n",
    "\n",
    "    train_label = mnist_train[:,0]\n",
    "    train_data  = mnist_train[:,1:]\n",
    "\n",
    "    test_label  = mnist_test[:,0]\n",
    "    test_data   = mnist_test[:,1:]\n",
    "\n",
    "    multiple_train_data.append(train_data)\n",
    "    multiple_train_label.append(train_label)\n",
    "    multiple_test_data.append(test_data)\n",
    "    multiple_test_label.append(test_label)\n",
    "\n",
    "\n",
    "#simple dataset\n",
    "mnist_train = np.loadtxt('mnist_train.csv', dtype='int', delimiter=',', skiprows=59001)\n",
    "mnist_test  = np.loadtxt('mnist_test.csv', dtype='int', delimiter=',', skiprows=9501)\n",
    "\n",
    "train_label = mnist_train[:,0]\n",
    "train_data  = mnist_train[:,1:]\n",
    "\n",
    "test_label  = mnist_test[:,0]\n",
    "test_data   = mnist_test[:,1:]"
   ]
  },
  {
   "cell_type": "markdown",
   "metadata": {},
   "source": [
    "## Mesures"
   ]
  },
  {
   "cell_type": "code",
   "execution_count": 44,
   "metadata": {},
   "outputs": [],
   "source": [
    "# distance euclidien\n",
    "from sklearn.metrics import euclidean_distances\n",
    "\n",
    "#Procrustes analysis\n",
    "# https://docs.scipy.org/doc/scipy/reference/generated/scipy.spatial.procrustes.html\n",
    "from scipy.spatial import procrustes\n",
    "\n",
    "def procrustes_similarity(u,v):\n",
    "    #u and v are vectors\n",
    "    # return disparity score between u and v\n",
    "    u = u.reshape(u.shape[0],1)\n",
    "    v = v.reshape(v.shape[0],1)\n",
    "    return procrustes(u,v)[2]\n",
    "\n",
    "def procrustes_matrix(X):\n",
    "    # X is a matrix nxd with n vectors\n",
    "    # return distance matrix nxn where distance [i,j] is the distance between X[i] and X[j]\n",
    "    #environ 80 secondes pour creer une matrice (1000,1000)\n",
    "    result = np.zeros((X.shape[0],X.shape[0]))\n",
    "    for i in range(X.shape[0]):\n",
    "        for j in range(i, X.shape[0]):\n",
    "            result[i,j] = result[j,i] = procrustes_similarity(X[i],X[j])\n",
    "    return result\n",
    "\n",
    "\n",
    "# Notre mesure inspiré de procrustes\n",
    "# https://github.com/scipy/scipy/blob/v1.1.0/scipy/spatial/_procrustes.py#L17-L132\n",
    "from scipy.linalg.decomp_svd import svd\n",
    "\n",
    "def procrustes_modified(data1, data2):\n",
    "    mtx1 = np.array(data1, dtype=np.double, copy=True)\n",
    "    mtx2 = np.array(data2, dtype=np.double, copy=True)\n",
    "\n",
    "    if mtx1.ndim != 2 or mtx2.ndim != 2:\n",
    "        raise ValueError(\"Input matrices must be two-dimensional\")\n",
    "    if mtx1.shape != mtx2.shape:\n",
    "        raise ValueError(\"Input matrices must be of same shape\")\n",
    "    if mtx1.size == 0:\n",
    "        raise ValueError(\"Input matrices must be >0 rows and >0 cols\")\n",
    "        \n",
    "    norm1 = np.linalg.norm(mtx1)\n",
    "    norm2 = np.linalg.norm(mtx2)\n",
    "\n",
    "    if norm1 == 0 or norm2 == 0:\n",
    "        raise ValueError(\"Input matrices must contain >1 unique points\")\n",
    "\n",
    "    # change scaling of data (in rows) such that trace(mtx*mtx') = 1\n",
    "    mtx1 /= norm1\n",
    "    mtx2 /= norm2\n",
    "    \n",
    "    # measure the dissimilarity between the two datasets\n",
    "    disparity = np.sum(np.square(mtx1 - mtx2))\n",
    "\n",
    "    return mtx1, mtx2, disparity\n",
    "\n",
    "def procrustes_similarity_modified(u,v):\n",
    "    #u and v are vectors\n",
    "    # return disparity score between u and v\n",
    "    u = u.reshape(u.shape[0],1)\n",
    "    v = v.reshape(v.shape[0],1)\n",
    "    return procrustes_modified(u,v)[2]\n",
    "\n",
    "def procrustes_matrix_modified(X):\n",
    "    # X is a matrix nxd with n vectors\n",
    "    # return distance matrix nxn where distance [i,j] is the distance between X[i] and X[j]\n",
    "    result = np.zeros((X.shape[0],X.shape[0]))\n",
    "    for i in range(X.shape[0]):\n",
    "        for j in range(i, X.shape[0]):\n",
    "            result[i,j] = result[j,i] = procrustes_similarity_modified(X[i],X[j])\n",
    "    return result"
   ]
  },
  {
   "cell_type": "markdown",
   "metadata": {},
   "source": [
    "## Implémentation des algorithmes"
   ]
  },
  {
   "cell_type": "markdown",
   "metadata": {},
   "source": [
    "#### KNN"
   ]
  },
  {
   "cell_type": "code",
   "execution_count": 49,
   "metadata": {},
   "outputs": [],
   "source": [
    "from sklearn.neighbors import KNeighborsClassifier as knn\n",
    "\n",
    "# # exemple d'utilisation \n",
    "# knn_default = knn(n_neighbors=7, metric='euclidean', n_jobs=6)\n",
    "# knn_default.fit(train_data, train_label)\n",
    "# result = knn_default.score(test_data, test_label)\n",
    "# print(\"Taux de succès avec knn et la distance euclidienne: %.4f %%\" % (result * 100.0))"
   ]
  },
  {
   "cell_type": "markdown",
   "metadata": {},
   "source": [
    "#### Partition binaire"
   ]
  },
  {
   "cell_type": "code",
   "execution_count": null,
   "metadata": {},
   "outputs": [],
   "source": []
  },
  {
   "cell_type": "markdown",
   "metadata": {},
   "source": [
    "#### K-medoids"
   ]
  },
  {
   "cell_type": "code",
   "execution_count": 51,
   "metadata": {},
   "outputs": [],
   "source": [
    "# modified code \n",
    "# from https://github.com/terkkila/scikit-learn/blob/kmedoids/sklearn/cluster/k_medoids_.py \n",
    "# and some functions from\n",
    "# https://github.com/scikit-learn/scikit-learn/blob/bac89c253b35a8f1a3827389fbee0f5bebcbc985/sklearn/base.py\n",
    "# are added to it\n",
    "\n",
    "# # exemple d'utilisation\n",
    "# kmedoids = KMedoids(n_clusters=10, distance_metric='euclidean', random_state=None)\n",
    "# kmedoids.fit(train_data)\n",
    "# result = kmedoids.score(test_data, test_label)\n",
    "# print(\"Taux de succès avec k-medoids et la distance Euclidienne: %.4f %%\" % (result * 100.0))\n",
    "\n",
    "\n",
    "\n",
    "#___________________________________________________________\n",
    "#K-medoids clustering\n",
    "\n",
    "# Authors: Timo Erkkilä <timo.erkkila@gmail.com>\n",
    "#          Antti Lehmussola <antti.lehmussola@gmail.com>\n",
    "# License: BSD 3 clause\n",
    "\n",
    "import numpy as np\n",
    "import warnings\n",
    "\n",
    "from sklearn.base import BaseEstimator, ClusterMixin, TransformerMixin\n",
    "from sklearn.metrics.pairwise import PAIRWISE_DISTANCE_FUNCTIONS\n",
    "from sklearn.utils import check_array, check_random_state\n",
    "from sklearn.utils.validation import check_is_fitted\n",
    "\n",
    "\n",
    "class KMedoids(BaseEstimator, ClusterMixin, TransformerMixin):\n",
    "    \"\"\"\n",
    "    k-medoids class.\n",
    "    Parameters\n",
    "    ----------\n",
    "    n_clusters : int, optional, default: 8\n",
    "        How many medoids. Must be positive.\n",
    "    distance_metric : string, optional, default: 'euclidean'\n",
    "        What distance metric to use.\n",
    "    clustering : {'pam'}, optional, default: 'pam'\n",
    "        What clustering mode to use.\n",
    "    init : {'random', 'heuristic'}, optional, default: 'heuristic'\n",
    "        Specify medoid initialization.\n",
    "    max_iter : int, optional, default : 300\n",
    "        Specify the maximum number of iterations when fitting.\n",
    "    random_state : int, optional, default: None\n",
    "        Specify random state for the random number generator.\n",
    "    \"\"\"\n",
    "\n",
    "    # Supported clustering methods\n",
    "    CLUSTERING_METHODS = ['pam']\n",
    "\n",
    "    # Supported initialization methods\n",
    "    INIT_METHODS = ['random', 'heuristic']\n",
    "\n",
    "    def __init__(self, n_clusters=8, distance_metric='euclidean',\n",
    "                 clustering_method='pam', init='heuristic',\n",
    "                 max_iter=300, random_state=None, procrustes_type = None):\n",
    "\n",
    "        self.n_clusters = n_clusters\n",
    "\n",
    "        self.distance_metric = distance_metric\n",
    "\n",
    "        self.init = init\n",
    "\n",
    "        self.max_iter = max_iter\n",
    "\n",
    "        self.clustering_method = clustering_method\n",
    "\n",
    "        self.random_state = random_state\n",
    "        \n",
    "        self.procrustes_type = procrustes_type\n",
    "\n",
    "    def _check_init_args(self):\n",
    "\n",
    "        # Check n_clusters\n",
    "        if self.n_clusters is None or self.n_clusters <= 0 or \\\n",
    "                not isinstance(self.n_clusters, int):\n",
    "            raise ValueError(\"n_clusters has to be nonnegative integer\")\n",
    "\n",
    "        # Check distance_metric\n",
    "        if callable(self.distance_metric):\n",
    "            self.distance_func = self.distance_metric\n",
    "        elif self.distance_metric in PAIRWISE_DISTANCE_FUNCTIONS:\n",
    "            self.distance_func = \\\n",
    "                PAIRWISE_DISTANCE_FUNCTIONS[self.distance_metric]\n",
    "        else:\n",
    "            raise ValueError(\"distance_metric needs to be \" +\n",
    "                             \"callable or one of the \" +\n",
    "                             \"following strings: \" +\n",
    "                             \"{}\".format(PAIRWISE_DISTANCE_FUNCTIONS.keys()) +\n",
    "                             \". Instead, '{}' \".format(self.distance_metric) +\n",
    "                             \"was given.\")\n",
    "\n",
    "        # Check clustering_method\n",
    "        if self.clustering_method not in self.CLUSTERING_METHODS:\n",
    "            raise ValueError(\"clustering must be one of the following: \" +\n",
    "                             \"{}\".format(self.CLUSTERING_METHODS))\n",
    "\n",
    "        # Check init\n",
    "        if self.init not in self.INIT_METHODS:\n",
    "            raise ValueError(\"init needs to be one of \" +\n",
    "                             \"the following: \" +\n",
    "                             \"{}\".format(self.INIT_METHODS))\n",
    "\n",
    "        # Check random state\n",
    "        self.random_state_ = check_random_state(self.random_state)\n",
    "\n",
    "    def fit(self, X, y=None):\n",
    "        \"\"\"Fit K-Medoids to the provided data.\n",
    "        Parameters\n",
    "        ----------\n",
    "        X : array-like or sparse matrix, shape=(n_samples, n_features)\n",
    "        Returns\n",
    "        -------\n",
    "        self\n",
    "        \"\"\"\n",
    "\n",
    "        self._check_init_args()\n",
    "\n",
    "        # Check that the array is good and attempt to convert it to\n",
    "        # Numpy array if possible\n",
    "        X = self._check_array(X)\n",
    "\n",
    "        # Apply distance metric to get the distance matrix\n",
    "        D = self.distance_func(X)\n",
    "\n",
    "        medoid_ics = self._get_initial_medoid_indices(D, self.n_clusters)\n",
    "\n",
    "        # Old medoids will be stored here for reference\n",
    "        old_medoid_ics = np.zeros((self.n_clusters,))\n",
    "\n",
    "        # Continue the algorithm as long as\n",
    "        # the medoids keep changing and the maximum number\n",
    "        # of iterations is not exceeded\n",
    "        self.n_iter_ = 0\n",
    "        while not np.all(old_medoid_ics == medoid_ics) and \\\n",
    "                self.n_iter_ < self.max_iter:\n",
    "\n",
    "            self.n_iter_ += 1\n",
    "\n",
    "            # Keep a copy of the old medoid assignments\n",
    "            old_medoid_ics = np.copy(medoid_ics)\n",
    "\n",
    "            # Get cluster indices\n",
    "            cluster_ics = self._get_cluster_ics(D, medoid_ics)\n",
    "\n",
    "            # Update medoids with the new cluster indices\n",
    "            self._update_medoid_ics_in_place(D, cluster_ics, medoid_ics)\n",
    "\n",
    "        # Expose labels_ which are the assignments of\n",
    "        # the training data to clusters\n",
    "        self.labels_ = cluster_ics\n",
    "\n",
    "        # Expose cluster centers, i.e. medoids\n",
    "        self.cluster_centers_ = X.take(medoid_ics, axis=0)\n",
    "\n",
    "        # Return self to enable method chaining\n",
    "        return self\n",
    "\n",
    "    def _check_array(self, X):\n",
    "\n",
    "        X = check_array(X)\n",
    "\n",
    "        # Check that the number of clusters is less than or equal to\n",
    "        # the number of samples\n",
    "        if self.n_clusters > X.shape[0]:\n",
    "            raise ValueError(\"The number of medoids \" +\n",
    "                             \"({}) \".format(self.n_clusters) +\n",
    "                             \"must be larger than the number \" +\n",
    "                             \"of samples ({})\".format(X.shape[0]))\n",
    "\n",
    "        return X\n",
    "\n",
    "    def _get_cluster_ics(self, D, medoid_ics):\n",
    "        \"\"\"Returns cluster indices for D and current medoid indices\"\"\"\n",
    "\n",
    "        # Assign data points to clusters based on\n",
    "        # which cluster assignment yields\n",
    "        # the smallest distance\n",
    "        cluster_ics = np.argmin(D[medoid_ics, :], axis=0)\n",
    "\n",
    "        return cluster_ics\n",
    "\n",
    "    def _update_medoid_ics_in_place(self, D, cluster_ics, medoid_ics):\n",
    "        \"\"\"In-place update of the medoid indices\"\"\"\n",
    "\n",
    "        # Update the medoids for each cluster\n",
    "        for cluster_idx in range(self.n_clusters):\n",
    "\n",
    "            if sum(cluster_ics == cluster_idx) == 0:\n",
    "                warnings.warn(\"Cluster {} is empty!\".format(cluster_idx))\n",
    "                continue\n",
    "\n",
    "            # Find current cost that is associated with cluster_idx.\n",
    "            # Cost is the sum of the distance from the cluster\n",
    "            # members to the medoid.\n",
    "            curr_cost = np.sum(D[medoid_ics[cluster_idx],\n",
    "                                 cluster_ics == cluster_idx])\n",
    "\n",
    "            # Extract the distance matrix between the data points\n",
    "            # inside the cluster_idx\n",
    "            D_in = D[cluster_ics == cluster_idx, :]\n",
    "            D_in = D_in[:, cluster_ics == cluster_idx]\n",
    "\n",
    "            # Calculate all costs there exists between all\n",
    "            # the data points in the cluster_idx\n",
    "            all_costs = np.sum(D_in, axis=1)\n",
    "\n",
    "            # Find the index for the smallest cost in cluster_idx\n",
    "            min_cost_idx = np.argmin(all_costs)\n",
    "\n",
    "            # find the value of the minimum cost in cluster_idx\n",
    "            min_cost = all_costs[min_cost_idx]\n",
    "\n",
    "            # If the minimum cost is smaller than that\n",
    "            # exhibited by the currently used medoid,\n",
    "            # we switch to using the new medoid in cluster_idx\n",
    "            if min_cost < curr_cost:\n",
    "\n",
    "                # Find data points that belong to cluster_idx,\n",
    "                # and assign the newly found medoid as the medoid\n",
    "                # for cluster c\n",
    "                medoid_ics[cluster_idx] = \\\n",
    "                    np.where(cluster_ics == cluster_idx)[0][min_cost_idx]\n",
    "\n",
    "    def transform(self, X):\n",
    "        \"\"\"Transforms X to cluster-distance space.\n",
    "        Parameters\n",
    "        ----------\n",
    "        X : array-like or sparse matrix, shape=(n_samples, n_features)\n",
    "            Data to transform.\n",
    "        Returns\n",
    "        -------\n",
    "        X_new : array, shape=(n_samples, n_clusters)\n",
    "            X transformed in the new space.\n",
    "        \"\"\"\n",
    "\n",
    "        check_is_fitted(self, \"cluster_centers_\")\n",
    "\n",
    "        # Apply distance metric wrt. cluster centers (medoids),\n",
    "        # and return these distances\n",
    "        return self.distance_func(X, Y=self.cluster_centers_)\n",
    "\n",
    "    def predict(self, X):\n",
    "\n",
    "        check_is_fitted(self, \"cluster_centers_\")\n",
    "\n",
    "        # Check that the array is good and attempt to convert it to\n",
    "        # Numpy array if possible\n",
    "        X = check_array(X)\n",
    "\n",
    "        # Apply distance metric wrt. cluster centers (medoids)\n",
    "\n",
    "        if self.procrustes_type is not None:\n",
    "            D = np.zeros((X.shape[0], self.cluster_centers_.shape[0]))\n",
    "            i = 0\n",
    "            for u in X:\n",
    "                j = 0\n",
    "                for v in self.cluster_centers_:\n",
    "                    if self.procrustes_type == 'normal':\n",
    "                        D[i,j] = procrustes_similarity(u,v)\n",
    "                    elif self.procrustes_type == 'modified':\n",
    "                        D[i,j] = procrustes_similarity_modified(u,v)\n",
    "                    j = j+1\n",
    "                i= i+1\n",
    "        else: \n",
    "            D = self.distance_func(X, Y=self.cluster_centers_)\n",
    "\n",
    "        # Assign data points to clusters based on\n",
    "        # which cluster assignment yields\n",
    "        # the smallest distance\n",
    "        labels = np.argmin(D, axis=1)\n",
    "\n",
    "        return labels\n",
    "    #__________________________\n",
    "    #ADD\n",
    "    #________________________\n",
    "    def score(self, X, y, sample_weight=None):\n",
    "        \"\"\"Returns the mean accuracy on the given test data and labels.\n",
    "        In multi-label classification, this is the subset accuracy\n",
    "        which is a harsh metric since you require for each sample that\n",
    "        each label set be correctly predicted.\n",
    "        Parameters\n",
    "        ----------\n",
    "        X : array-like, shape = (n_samples, n_features)\n",
    "            Test samples.\n",
    "        y : array-like, shape = (n_samples) or (n_samples, n_outputs)\n",
    "            True labels for X.\n",
    "        sample_weight : array-like, shape = [n_samples], optional\n",
    "            Sample weights.\n",
    "        Returns\n",
    "        -------\n",
    "        score : float\n",
    "            Mean accuracy of self.predict(X) wrt. y.\n",
    "        \"\"\"\n",
    "        from sklearn.metrics import accuracy_score\n",
    "        return accuracy_score(y, self.predict(X), sample_weight=sample_weight)\n",
    "\n",
    "    def inertia(self, X):\n",
    "\n",
    "        # Map the original X to the distance-space\n",
    "        Xt = self.transform(X)\n",
    "\n",
    "        # Define inertia as the sum of the sample-distances\n",
    "        # to closest cluster centers\n",
    "        inertia = np.sum(np.min(Xt, axis=1))\n",
    "\n",
    "        return inertia\n",
    "\n",
    "    def _get_initial_medoid_indices(self, D, n_clusters):\n",
    "\n",
    "        if self.init == 'random':  # Random initialization\n",
    "\n",
    "            # Pick random k medoids as the initial ones.\n",
    "            medoids = self.random_state_.permutation(D.shape[0])[:n_clusters]\n",
    "\n",
    "        elif self.init == 'heuristic':  # Initialization by heuristic\n",
    "\n",
    "            # Pick K first data points that have the smallest sum distance\n",
    "            # to every other point. These are the initial medoids.\n",
    "            medoids = list(np.argsort(np.sum(D, axis=1))[:n_clusters])\n",
    "\n",
    "        else:\n",
    "\n",
    "            raise ValueError(\"Initialization not implemented for method: \" +\n",
    "                             \"'{}'\".format(self.init))\n",
    "\n",
    "        return medoids"
   ]
  },
  {
   "cell_type": "markdown",
   "metadata": {},
   "source": [
    "#### PCoA"
   ]
  },
  {
   "cell_type": "code",
   "execution_count": 52,
   "metadata": {},
   "outputs": [],
   "source": [
    "from sklearn.manifold import MDS\n",
    "\n",
    "# # exemple d'utilisation\n",
    "# # PCoA reducing to 2 dimensions\n",
    "# pcoa_2d = MDS(n_components=2, random_state=seed, dissimilarity=\"precomputed\", n_jobs=-1)\n",
    "# similarities_euclidean = euclidean_distances(train_data)\n",
    "# pos_euclidean = pcoa_2d.fit(similarities_euclidean).embedding_"
   ]
  },
  {
   "cell_type": "markdown",
   "metadata": {},
   "source": [
    "#### Isomap"
   ]
  },
  {
   "cell_type": "code",
   "execution_count": 53,
   "metadata": {},
   "outputs": [],
   "source": [
    "# Modified isomap from scikit learn to be able to change the metric used\n",
    "# https://github.com/scikit-learn/scikit-learn/blob/bac89c2/sklearn/manifold/isomap.py#L15\n",
    "\n",
    "# # exemple d'utilisation\n",
    "# # Isomap reduisant à 2d\n",
    "# iso_2d = Isomap(n_components=2, n_jobs=-1)\n",
    "# iso_pos_euclidean = iso_2d.fit_transform(train_data, metric = 'euclidean')\n",
    "\n",
    "\n",
    "#_______________________________________-\n",
    "#Isomap for manifold learning\n",
    "\n",
    "# Author: Jake Vanderplas  -- <vanderplas@astro.washington.edu>\n",
    "# License: BSD 3 clause (C) 2011\n",
    "\n",
    "from sklearn.base import BaseEstimator, TransformerMixin\n",
    "from sklearn.neighbors import NearestNeighbors, kneighbors_graph\n",
    "from sklearn.utils import check_array\n",
    "from sklearn.utils.graph import graph_shortest_path\n",
    "from sklearn.decomposition import KernelPCA\n",
    "from sklearn.preprocessing import KernelCenterer\n",
    "\n",
    "#_____________________________\n",
    "# ____________ADDED___________\n",
    "#_____________________________\n",
    "\"\"\" \n",
    "It is now possible to specify the metric use in fit_transform()\n",
    "\n",
    "\n",
    "metric : string or callable, default ‘minkowski’\n",
    "metric to use for distance computation. Any metric from scikit-learn or scipy.spatial.distance can be used.\n",
    "\n",
    "If metric is a callable function, it is called on each pair of instances (rows) and the resulting value recorded. \n",
    "The callable should take two arrays as input and return one value indicating the distance between them. \n",
    "This works for Scipy’s metrics, but is less efficient than passing the metric name as a string.\n",
    "\n",
    "Distance matrices are not supported.\n",
    "\n",
    "Valid values for metric are:\n",
    "from scikit-learn: [‘cityblock’, ‘cosine’, ‘euclidean’, ‘l1’, ‘l2’, ‘manhattan’]\n",
    "from scipy.spatial.distance: [‘braycurtis’, ‘canberra’, ‘chebyshev’, ‘correlation’, ‘dice’, ‘hamming’, ‘jaccard’, \n",
    "                              ‘kulsinski’, ‘mahalanobis’, ‘minkowski’, ‘rogerstanimoto’, ‘russellrao’, ‘seuclidean’, \n",
    "                              ‘sokalmichener’, ‘sokalsneath’, ‘sqeuclidean’, ‘yule’]\n",
    "\"\"\"\n",
    "\n",
    "\n",
    "class Isomap(BaseEstimator, TransformerMixin):\n",
    "    \"\"\"Isomap Embedding\n",
    "    Non-linear dimensionality reduction through Isometric Mapping\n",
    "    Read more in the :ref:`User Guide <isomap>`.\n",
    "    Parameters\n",
    "    ----------\n",
    "    n_neighbors : integer\n",
    "        number of neighbors to consider for each point.\n",
    "    n_components : integer\n",
    "        number of coordinates for the manifold\n",
    "    eigen_solver : ['auto'|'arpack'|'dense']\n",
    "        'auto' : Attempt to choose the most efficient solver\n",
    "        for the given problem.\n",
    "        'arpack' : Use Arnoldi decomposition to find the eigenvalues\n",
    "        and eigenvectors.\n",
    "        'dense' : Use a direct solver (i.e. LAPACK)\n",
    "        for the eigenvalue decomposition.\n",
    "    tol : float\n",
    "        Convergence tolerance passed to arpack or lobpcg.\n",
    "        not used if eigen_solver == 'dense'.\n",
    "    max_iter : integer\n",
    "        Maximum number of iterations for the arpack solver.\n",
    "        not used if eigen_solver == 'dense'.\n",
    "    path_method : string ['auto'|'FW'|'D']\n",
    "        Method to use in finding shortest path.\n",
    "        'auto' : attempt to choose the best algorithm automatically.\n",
    "        'FW' : Floyd-Warshall algorithm.\n",
    "        'D' : Dijkstra's algorithm.\n",
    "    neighbors_algorithm : string ['auto'|'brute'|'kd_tree'|'ball_tree']\n",
    "        Algorithm to use for nearest neighbors search,\n",
    "        passed to neighbors.NearestNeighbors instance.\n",
    "    n_jobs : int or None, optional (default=None)\n",
    "        The number of parallel jobs to run.\n",
    "        ``None`` means 1 unless in a :obj:`joblib.parallel_backend` context.\n",
    "        ``-1`` means using all processors. See :term:`Glossary <n_jobs>`\n",
    "        for more details.\n",
    "    Attributes\n",
    "    ----------\n",
    "    embedding_ : array-like, shape (n_samples, n_components)\n",
    "        Stores the embedding vectors.\n",
    "    kernel_pca_ : object\n",
    "        `KernelPCA` object used to implement the embedding.\n",
    "    training_data_ : array-like, shape (n_samples, n_features)\n",
    "        Stores the training data.\n",
    "    nbrs_ : sklearn.neighbors.NearestNeighbors instance\n",
    "        Stores nearest neighbors instance, including BallTree or KDtree\n",
    "        if applicable.\n",
    "    dist_matrix_ : array-like, shape (n_samples, n_samples)\n",
    "        Stores the geodesic distance matrix of training data.\n",
    "    Examples\n",
    "    --------\n",
    "    >>> from sklearn.datasets import load_digits\n",
    "    >>> from sklearn.manifold import Isomap\n",
    "    >>> X, _ = load_digits(return_X_y=True)\n",
    "    >>> X.shape\n",
    "    (1797, 64)\n",
    "    >>> embedding = Isomap(n_components=2)\n",
    "    >>> X_transformed = embedding.fit_transform(X[:100])\n",
    "    >>> X_transformed.shape\n",
    "    (100, 2)\n",
    "    References\n",
    "    ----------\n",
    "    .. [1] Tenenbaum, J.B.; De Silva, V.; & Langford, J.C. A global geometric\n",
    "           framework for nonlinear dimensionality reduction. Science 290 (5500)\n",
    "    \"\"\"\n",
    "    \n",
    "    def __init__(self, n_neighbors=5, n_components=2, eigen_solver='auto',\n",
    "                 tol=0, max_iter=None, path_method='auto',\n",
    "                 neighbors_algorithm='auto', n_jobs=None):\n",
    "        self.n_neighbors = n_neighbors\n",
    "        self.n_components = n_components\n",
    "        self.eigen_solver = eigen_solver\n",
    "        self.tol = tol\n",
    "        self.max_iter = max_iter\n",
    "        self.path_method = path_method\n",
    "        self.neighbors_algorithm = neighbors_algorithm\n",
    "        self.n_jobs = n_jobs\n",
    "\n",
    "    ##_____________________________\n",
    "    ##added metric = ''minkowski'\n",
    "    ##_____________________________\n",
    "    def _fit_transform(self, X, metric = 'minkowski'):\n",
    "        X = check_array(X, accept_sparse='csr')\n",
    "        \n",
    "        ##__________________________________________________\n",
    "        ##added metric=metric\n",
    "        ##_________________________________________________\n",
    "        self.nbrs_ = NearestNeighbors(n_neighbors=self.n_neighbors,\n",
    "                                      algorithm=self.neighbors_algorithm,\n",
    "                                      n_jobs=self.n_jobs, metric=metric)\n",
    "        self.nbrs_.fit(X)\n",
    "        self.training_data_ = self.nbrs_._fit_X\n",
    "        self.kernel_pca_ = KernelPCA(n_components=self.n_components,\n",
    "                                     kernel=\"precomputed\",\n",
    "                                     eigen_solver=self.eigen_solver,\n",
    "                                     tol=self.tol, max_iter=self.max_iter,\n",
    "                                     n_jobs=self.n_jobs)\n",
    "        ##____________________________________________________\n",
    "        ##added metric=metric\n",
    "        ##____________________________________________________\n",
    "        kng = kneighbors_graph(self.nbrs_, self.n_neighbors,\n",
    "                               mode='distance', n_jobs=self.n_jobs, metric = metric)\n",
    "\n",
    "        self.dist_matrix_ = graph_shortest_path(kng,\n",
    "                                                method=self.path_method,\n",
    "                                                directed=False)\n",
    "        G = self.dist_matrix_ ** 2\n",
    "        G *= -0.5\n",
    "\n",
    "        self.embedding_ = self.kernel_pca_.fit_transform(G)\n",
    "\n",
    "    def reconstruction_error(self):\n",
    "        \"\"\"Compute the reconstruction error for the embedding.\n",
    "        Returns\n",
    "        -------\n",
    "        reconstruction_error : float\n",
    "        Notes\n",
    "        -------\n",
    "        The cost function of an isomap embedding is\n",
    "        ``E = frobenius_norm[K(D) - K(D_fit)] / n_samples``\n",
    "        Where D is the matrix of distances for the input data X,\n",
    "        D_fit is the matrix of distances for the output embedding X_fit,\n",
    "        and K is the isomap kernel:\n",
    "        ``K(D) = -0.5 * (I - 1/n_samples) * D^2 * (I - 1/n_samples)``\n",
    "        \"\"\"\n",
    "        G = -0.5 * self.dist_matrix_ ** 2\n",
    "        G_center = KernelCenterer().fit_transform(G)\n",
    "        evals = self.kernel_pca_.lambdas_\n",
    "        return np.sqrt(np.sum(G_center ** 2) - np.sum(evals ** 2)) / G.shape[0]\n",
    "\n",
    "    def fit(self, X, y=None):\n",
    "        \"\"\"Compute the embedding vectors for data X\n",
    "        Parameters\n",
    "        ----------\n",
    "        X : {array-like, sparse matrix, BallTree, KDTree, NearestNeighbors}\n",
    "            Sample data, shape = (n_samples, n_features), in the form of a\n",
    "            numpy array, precomputed tree, or NearestNeighbors\n",
    "            object.\n",
    "        y : Ignored\n",
    "        Returns\n",
    "        -------\n",
    "        self : returns an instance of self.\n",
    "        \"\"\"\n",
    "        self._fit_transform(X)\n",
    "        return self\n",
    "\n",
    "    ##_____________________________\n",
    "    ##added metric = ''minkowski'\n",
    "    ##_____________________________\n",
    "    def fit_transform(self, X, y=None, metric = 'minkowski'):\n",
    "        \"\"\"Fit the model from data in X and transform X.\n",
    "        Parameters\n",
    "        ----------\n",
    "        X : {array-like, sparse matrix, BallTree, KDTree}\n",
    "            Training vector, where n_samples in the number of samples\n",
    "            and n_features is the number of features.\n",
    "        y : Ignored\n",
    "        Returns\n",
    "        -------\n",
    "        X_new : array-like, shape (n_samples, n_components)\n",
    "        \"\"\"\n",
    "        ##_____________________________\n",
    "        ##added metric\n",
    "        ##_____________________________\n",
    "        self._fit_transform(X, metric)\n",
    "        return self.embedding_\n",
    "\n",
    "    def transform(self, X):\n",
    "        \"\"\"Transform X.\n",
    "        This is implemented by linking the points X into the graph of geodesic\n",
    "        distances of the training data. First the `n_neighbors` nearest\n",
    "        neighbors of X are found in the training data, and from these the\n",
    "        shortest geodesic distances from each point in X to each point in\n",
    "        the training data are computed in order to construct the kernel.\n",
    "        The embedding of X is the projection of this kernel onto the\n",
    "        embedding vectors of the training set.\n",
    "        Parameters\n",
    "        ----------\n",
    "        X : array-like, shape (n_samples, n_features)\n",
    "        Returns\n",
    "        -------\n",
    "        X_new : array-like, shape (n_samples, n_components)\n",
    "        \"\"\"\n",
    "        X = check_array(X)\n",
    "        distances, indices = self.nbrs_.kneighbors(X, return_distance=True)\n",
    "\n",
    "        # Create the graph of shortest distances from X to self.training_data_\n",
    "        # via the nearest neighbors of X.\n",
    "        # This can be done as a single array operation, but it potentially\n",
    "        # takes a lot of memory.  To avoid that, use a loop:\n",
    "        G_X = np.zeros((X.shape[0], self.training_data_.shape[0]))\n",
    "        for i in range(X.shape[0]):\n",
    "            G_X[i] = np.min(self.dist_matrix_[indices[i]] +\n",
    "                            distances[i][:, None], 0)\n",
    "\n",
    "        G_X **= 2\n",
    "        G_X *= -0.5\n",
    "\n",
    "        return self.kernel_pca_.transform(G_X)"
   ]
  },
  {
   "cell_type": "markdown",
   "metadata": {},
   "source": [
    "#### Visualisation de la réduction de dimensionalité"
   ]
  },
  {
   "cell_type": "code",
   "execution_count": 54,
   "metadata": {},
   "outputs": [],
   "source": [
    "def visualize_2d(pos,title):\n",
    "    fig, ax = plt.subplots()\n",
    "    colors=((1,0,0),(0,1,0),(0,0,1),(0.5,0.5,0),(0,0.5,0.5),(0.5,0,0.5),(0.4,0.6,0),(0.6,0.4,0),(0,0.6,0.4),(0.5,0.3,0.2),)\n",
    "    for i in range(pos.shape[0]):\n",
    "        ax.scatter(pos[i,0],pos[i,1],label = train_label[i],color=colors[train_label[i]])\n",
    "\n",
    "    #remove duplicate in legend\n",
    "    handles,labels=ax.get_legend_handles_labels()\n",
    "    handles_unique, labels_unique = [],[]\n",
    "    seen = set()\n",
    "    for i,e in enumerate(labels):\n",
    "        if e not in seen:\n",
    "            seen.add(e)\n",
    "            handles_unique.append(handles[i])\n",
    "            labels_unique.append(e)\n",
    "            if len(seen) == 10:\n",
    "                break\n",
    "\n",
    "    #sort legend\n",
    "    labels_unique, handles_unique = (list(l) for l in zip(*sorted(zip(labels_unique, handles_unique))))\n",
    "\n",
    "    plt.legend(handles_unique,labels_unique,loc=\"best\")\n",
    "    plt.title(title)\n",
    "    plt.show()"
   ]
  },
  {
   "cell_type": "markdown",
   "metadata": {},
   "source": [
    "#### Calcule du score de la réduction de dimensionalité"
   ]
  },
  {
   "cell_type": "code",
   "execution_count": 97,
   "metadata": {},
   "outputs": [],
   "source": [
    "def dimensionality_reduction_score(ori,reduc):\n",
    "    # ori: original distance matrix\n",
    "    # reduc: distance matrix in the reduced space\n",
    "   \n",
    "    # return: average kendalltau distance between the orders in ori and reduc\n",
    " \n",
    "    # if the result is closer to 1, the order of closeness between examples before and after the dimensionality reduction \n",
    "    # is the same (ie if example x was the closest to y in the orignal space, x is the closest to y in the reduced space)\n",
    "    \n",
    "    # if the result is closer to -1, it means that the closest example are now the farthest (ie x is the closest to y in the\n",
    "    # original space, then x is the farthest to y in the reduced space)\n",
    "    \n",
    "    j=1\n",
    "    result = 0\n",
    "    # distance metric is symetric, want to ignore the lower triangle half of the matrice\n",
    "    for i in range(reduc.shape[0]-1):\n",
    "        if ori[i,j:].shape[0] != 1:\n",
    "            t, _ = stats.kendalltau(ori[i,j:].argsort(), reduc[i,j:].argsort())\n",
    "            result = result + t\n",
    "            j = j+1\n",
    "    return result / (j-1)"
   ]
  },
  {
   "cell_type": "markdown",
   "metadata": {},
   "source": [
    "## Présentation de la mesure choisie"
   ]
  },
  {
   "cell_type": "markdown",
   "metadata": {},
   "source": [
    "Lors de la phase d'exploration, nous avons essayé de nombreuses mesures avec des résultats très variables. Par exemple, nous avons essayé la structural similarity index (SSIM)"
   ]
  },
  {
   "cell_type": "code",
   "execution_count": 9,
   "metadata": {},
   "outputs": [
    {
     "name": "stdout",
     "output_type": "stream",
     "text": [
      "Taux de succès avec knn et structural similarity index: 0.8000 %\n",
      "1294.130733013153 seconds\n"
     ]
    }
   ],
   "source": [
    "from skimage.measure import compare_ssim as ssim\n",
    "# http://scikit-image.org/docs/dev/api/skimage.measure.html#skimage.measure.compare_ssim\n",
    "\n",
    "# mean structural similarity index between two images\n",
    "start = time.time()\n",
    "knn_ssim = knn(n_neighbors=7, metric=ssim, n_jobs=-1)\n",
    "knn_ssim.fit(train_data, train_label)\n",
    "result_ssim = knn_ssim.score(test_data, test_label)\n",
    "\n",
    "end = time.time()\n",
    "print(\"Taux de succès avec knn et structural similarity index: %.4f %%\" % (result_ssim * 100.0))\n",
    "print(end-start, 'seconds')\n",
    "\n",
    "# Avec 5000 train example et 500 test example:\n",
    "# Taux de succès avec knn et structural similarity index: 0.8000 %\n",
    "# 1294.130733013153 seconds (22 minutes)"
   ]
  },
  {
   "cell_type": "markdown",
   "metadata": {},
   "source": [
    "qui est très lent et qui obtient un résultat extrêmement mauvais. Comparativement à des conditions exactement pareilles excepté que c'est la distance euclidienne, la ssim prend environ 22 minutes sur 5000 exemples tandis que la version avec la distance euclidienne prend 0.24 secondes. De plus, la performance est de seulement 0.8% tandis que la distance euclidienne obtient 84.6%."
   ]
  },
  {
   "cell_type": "markdown",
   "metadata": {},
   "source": [
    "Nous avons aussi essayé de nombreuse mesure plus simple comme la distance cosine ou L3:"
   ]
  },
  {
   "cell_type": "code",
   "execution_count": 78,
   "metadata": {},
   "outputs": [
    {
     "name": "stdout",
     "output_type": "stream",
     "text": [
      "Taux de succès avec knn et L3: 85.4000 %\n",
      "1.2310302257537842 seconds\n"
     ]
    }
   ],
   "source": [
    "start = time.time()\n",
    "knn_l3 = knn(n_neighbors=7, metric='minkowski', p=3, n_jobs=-1)\n",
    "knn_l3.fit(train_data, train_label)\n",
    "result_l3 = knn_l3.score(test_data, test_label)\n",
    "\n",
    "end = time.time()\n",
    "print(\"Taux de succès avec knn et L3: %.4f %%\" % (result_l3 * 100.0))\n",
    "print(end-start, 'seconds')\n",
    "\n",
    "# Avec 10000 train examples et 1000 test examples:\n",
    "# Taux de succès avec knn et L3: 95.5000 %\n",
    "# 28.261430978775024 seconds\n",
    "\n",
    "# Avec 5000 train examples et 500 test examples:\n",
    "# Taux de succès avec knn et L3: 90.8000 %\n",
    "# 6.961097002029419 seconds\n",
    "\n",
    "# Avec 1000 train examples et 500 test examples:\n",
    "# Taux de succès avec knn et L3: 85.4000 %\n",
    "# 1.2310302257537842 seconds"
   ]
  },
  {
   "cell_type": "markdown",
   "metadata": {},
   "source": [
    "Cependant, malgré que les temps d'execution ne soient pas beaucoup plus long (ici environ 1 secondes de plus que l'euclidien), les résultats obtenus n'étaient pas très intéressant étant donné que le résultat n'étaient qu'une très faible amélioration (dans ce cas-ci une amélioration de 0.8% (de 84.6% à 85.4%))."
   ]
  },
  {
   "cell_type": "markdown",
   "metadata": {},
   "source": [
    "Finalement, la mesure trouvée qui nous a donné les résultats les plus intéressants est l'analyse procustéenne (Procrustes analysis, en anglais)."
   ]
  },
  {
   "cell_type": "code",
   "execution_count": 76,
   "metadata": {},
   "outputs": [
    {
     "name": "stdout",
     "output_type": "stream",
     "text": [
      "Taux de succès avec knn et Procrustes analysis comme similarité: 89.4000 %\n",
      "126.29976058006287 seconds\n"
     ]
    }
   ],
   "source": [
    "start = time.time()\n",
    "knn_procrustes = knn(n_neighbors=7, metric=procrustes_similarity, n_jobs=-1)\n",
    "knn_procrustes.fit(train_data, train_label)\n",
    "result_procrustes = knn_procrustes.score(test_data, test_label)\n",
    "\n",
    "end = time.time()\n",
    "print(\"Taux de succès avec knn et Procrustes analysis comme similarité: %.4f %%\" % (result_procrustes * 100.0))\n",
    "print(end-start, 'seconds')\n",
    "\n",
    "# Avec 10000 train examples et 1000 test examples:\n",
    "# Taux de succès avec knn et Procrustes analysis comme similarité: 96.5000 %\n",
    "# 2965.029656648636 seconds (49 minutes)\n",
    "\n",
    "# Avec 5000 train example et 500 test example:\n",
    "# Taux de succès avec knn et Procrustes analysis comme similarité: 92.6000 %\n",
    "# 741.8232653141022 seconds (12 minutes)\n",
    "\n",
    "# Avec 1000 train examples et 500 test examples:\n",
    "# Taux de succès avec knn et Procrustes analysis comme similarité: 89.4000 %\n",
    "# 126.29976058006287 seconds (2 minutes 6 secondes)"
   ]
  },
  {
   "cell_type": "markdown",
   "metadata": {},
   "source": [
    "Malgré que l'execution prend, dans cet exemple, 2 minutes 6 secondes tandis que la version euclidéenne prend seulement 0.24 secondes, nous obtenons une amélioration de presque 5% (de 84.6% à 89.4%)."
   ]
  },
  {
   "cell_type": "markdown",
   "metadata": {},
   "source": [
    "L'idée de l'analyse procustéenne est la suivante:\n",
    "\"Elle est utilisée pour déformer un objet afin de le rendre autant que possible semblable à une référence (potentiellement arbitraire), ne laissant apparaître entre l'objet et la référence que les différences que les transformations autorisées (rotation, translation et mise à l'échelle) n'ont pu gommer. \"\n",
    "https://fr.wikipedia.org/wiki/Analyse_procustéenne\n",
    "\n",
    "L'algorithme procède de la façon suivante enfin de réaliser cette idée:"
   ]
  },
  {
   "attachments": {
    "Procrustes-Analysis-Base.png": {
     "image/png": "[encoded data removed]"
    }
   },
   "cell_type": "markdown",
   "metadata": {},
   "source": [
    "1) il prend les points/coordonnées de deux objets\n",
    "![Procrustes-Analysis-Base.png](attachment:Procrustes-Analysis-Base.png)\n"
   ]
  },
  {
   "attachments": {
    "Procrustes-Analysis-Translation.gif": {
     "image/gif": "[encoded data removed]"
    }
   },
   "cell_type": "markdown",
   "metadata": {},
   "source": [
    "2) il supprime la composante de translation\n",
    "![Procrustes-Analysis-Translation.gif](attachment:Procrustes-Analysis-Translation.gif)\n"
   ]
  },
  {
   "attachments": {
    "Echelle.gif": {
     "image/gif": "[encoded data removed]"
    }
   },
   "cell_type": "markdown",
   "metadata": {},
   "source": [
    "3) il supprime la composante d'échelle\n",
    "![Echelle.gif](attachment:Echelle.gif)"
   ]
  },
  {
   "attachments": {
    "Procrustes-Analysis-Rotation.gif": {
     "image/gif": "[encoded data removed]"
    }
   },
   "cell_type": "markdown",
   "metadata": {},
   "source": [
    "4) il supprime la composante de rotation\n",
    "![Procrustes-Analysis-Rotation.gif](attachment:Procrustes-Analysis-Rotation.gif)\n"
   ]
  },
  {
   "attachments": {
    "image.png": {
     "image/png": "[encoded data removed]"
    }
   },
   "cell_type": "markdown",
   "metadata": {},
   "source": [
    "5) il calcule la différence restante entre les deux objets\n",
    "![image.png](attachment:image.png)"
   ]
  },
  {
   "cell_type": "markdown",
   "metadata": {},
   "source": [
    "Cependant, les résultat intéressants obtenus lors de notre phase d'exploration ont été obtenus sur des données qui représente l'intensité (0 = noire, 255 = blanc) des pixels dans une image et pas avec des vecteurs représentant des points. Si nous regargons ce qui se passe réellement avec nos données lors de l'utilisation de procrustes:"
   ]
  },
  {
   "cell_type": "code",
   "execution_count": 10,
   "metadata": {},
   "outputs": [],
   "source": [
    "def rotate_90(ex):\n",
    "    # fait la rotation de 90 degrée de l'exemple ex\n",
    "    n_ex = np.zeros(ex.shape)\n",
    "    r = range(28)\n",
    "    for i in r:\n",
    "        for j in r:\n",
    "            n_ex[27-j+i*28] = ex[i+j*28]\n",
    "    return n_ex\n",
    "\n",
    "def translate(ex, offx, offy):\n",
    "    # fait la translation de l'exemple ex\n",
    "    n_ex = np.zeros(ex.shape)\n",
    "    r = range(28)\n",
    "    for i in r:\n",
    "        for j in r:\n",
    "            x = min(max(0, i - offx), 27)\n",
    "            y = min(max(0, j - offy), 27)\n",
    "            n_ex[x+y*28] = ex[i+j*28]\n",
    "    return n_ex\n",
    "\n",
    "# Code provenant d'un des TPs\n",
    "def show(ex):\n",
    "    #Conversion de notre vecteur d'une dimension en 2 dimensions\n",
    "    matrix = np.reshape(ex, (28,28))\n",
    "    plt.imshow(matrix, cmap='gray')\n",
    "    plt.show()"
   ]
  },
  {
   "cell_type": "code",
   "execution_count": 15,
   "metadata": {},
   "outputs": [
    {
     "name": "stdout",
     "output_type": "stream",
     "text": [
      "original\n"
     ]
    },
    {
     "data": {
      "image/png": "[encoded data removed]",
      "text/plain": [
       "<matplotlib.figure.Figure at 0x2f1f7d12f28>"
      ]
     },
     "metadata": {},
     "output_type": "display_data"
    },
    {
     "name": "stdout",
     "output_type": "stream",
     "text": [
      "Translation de l'original\n"
     ]
    },
    {
     "data": {
      "image/png": "[encoded data removed]",
      "text/plain": [
       "<matplotlib.figure.Figure at 0x2f1f58895f8>"
      ]
     },
     "metadata": {},
     "output_type": "display_data"
    },
    {
     "name": "stdout",
     "output_type": "stream",
     "text": [
      "Tentative de procrustes de centré à l'origine\n"
     ]
    },
    {
     "data": {
      "image/png": "[encoded data removed]",
      "text/plain": [
       "<matplotlib.figure.Figure at 0x2f1f5928828>"
      ]
     },
     "metadata": {},
     "output_type": "display_data"
    },
    {
     "name": "stdout",
     "output_type": "stream",
     "text": [
      "rotation de l'original\n"
     ]
    },
    {
     "data": {
      "image/png": "[encoded data removed]",
      "text/plain": [
       "<matplotlib.figure.Figure at 0x2f1f7d12f60>"
      ]
     },
     "metadata": {},
     "output_type": "display_data"
    },
    {
     "name": "stdout",
     "output_type": "stream",
     "text": [
      "tentative de procrustes de supprimer la composante de rotation\n"
     ]
    },
    {
     "data": {
      "image/png": "[encoded data removed]",
      "text/plain": [
       "<matplotlib.figure.Figure at 0x2f1f5c30898>"
      ]
     },
     "metadata": {},
     "output_type": "display_data"
    },
    {
     "name": "stdout",
     "output_type": "stream",
     "text": [
      "Mesure de dissimilarité obtenue:\n",
      "\t l'original et l'original 0.0000\n",
      "\t l'original et rotation de 90 degrés:    0.9980\n",
      "\t l'original et translation de 3 pixels:  0.9980\n",
      "\t l'original et les deux transformations: 0.9576\n"
     ]
    }
   ],
   "source": [
    "ex0 = train_data[2]\n",
    "ex1 = translate(ex0, 4, 2)\n",
    "data2 = ex1.reshape((784,1))\n",
    "\n",
    "# From Procrustes:\n",
    "# translate all the data to the origin\n",
    "mtx2 = np.array(data2, dtype=np.double, copy=True)\n",
    "mtx2 -= np.mean(mtx2, 0)\n",
    "\n",
    "#impact de ce code sur mnist\n",
    "print('original')\n",
    "show(ex0)\n",
    "print(\"Translation de l'original\")\n",
    "show(ex1)\n",
    "print(\"Tentative de procrustes de centré à l'origine\")\n",
    "show(mtx2)\n",
    "\n",
    "ex2 = rotate_90(ex0)\n",
    "data1 = ex0.reshape((784,1))\n",
    "data2 = ex2.reshape((784,1))\n",
    "\n",
    "# From procrustes\n",
    "mtx1 = np.array(data1, dtype=np.double, copy=True)\n",
    "mtx2 = np.array(data2, dtype=np.double, copy=True)\n",
    "\n",
    "A = mtx1\n",
    "B = mtx2\n",
    "# transform mtx2 to minimize disparity\n",
    "u, w, vt = svd(B.T.dot(A).T)\n",
    "R = u.dot(vt)\n",
    "s = w.sum()\n",
    "\n",
    "mtx2 = np.dot(mtx2, R.T) * s\n",
    "print(\"rotation de l'original\")\n",
    "show(ex2)\n",
    "print(\"tentative de procrustes de supprimer la composante de rotation\")\n",
    "show(mtx2)\n",
    "\n",
    "\n",
    "ex3 = translate(ex2, 3, 1)\n",
    "print(\"Mesure de dissimilarité obtenue:\")\n",
    "print(\"\\t l'original et l'original %.4f\" % (procrustes_similarity(ex0, ex0)))\n",
    "print(\"\\t l'original et rotation de 90 degrés:    %.4f\" % (procrustes_similarity(ex0, ex2)))\n",
    "print(\"\\t l'original et translation de 3 pixels:  %.4f\" % (procrustes_similarity(ex0, ex2)))\n",
    "print(\"\\t l'original et les deux transformations: %.4f\" % (procrustes_similarity(ex0, ex3)))\n"
   ]
  },
  {
   "cell_type": "markdown",
   "metadata": {},
   "source": [
    "La méthode procrustes n'est, donc, pas capable de supprimer les composantes de rotation et de translation avec des vecteurs de pixels. La solution pour résoudre ce problème serait de simplement transformer notre ensemble de données en un ensemble de données qui correspont aux coordonées des pixels blancs."
   ]
  },
  {
   "cell_type": "code",
   "execution_count": 38,
   "metadata": {},
   "outputs": [
    {
     "name": "stdout",
     "output_type": "stream",
     "text": [
      "Mesure de dissimilarité obtenue:\n",
      "\t l'original et l'original: 0.0000\n",
      "\t l'original et après translation: 0.0000\n",
      "\t max sur un échantillon quand on compare un exemple avec sa translation: 0.0000\n",
      "\t min sur un échantillon quand on compare un exemple avec sa translation: 0.0000\n",
      "\t max sur un échantillon avec deux exemples au hasard (ie a!=b): 1.0000\n",
      "\t min sur un échantillon avec deux exemples au hasard (ie a!=b): 0.0000\n"
     ]
    }
   ],
   "source": [
    "from sklearn.preprocessing import Binarizer\n",
    "\n",
    "def binarize(data):\n",
    "    # Prend notre ensemble de données\n",
    "    # retourne l'ensemble de données avec seulement des intensités de pixel égale à 0 si le pixel est noire ou 1 si blanc\n",
    "    pp = Binarizer(127)\n",
    "    pp.fit(data)\n",
    "    data = pp.transform(data)\n",
    "    return data\n",
    "\n",
    "def positions(data):\n",
    "    #prend notre ensemble de données\n",
    "    #retourne l'ensemble de données où chaque exemple est une matrice 784x2\n",
    "    # ie chaque exemple sont les coordonnées de chaque pixel blanc et les coordonnées [-100,-100] si le pixel est noire\n",
    "    img = binarize(data)\n",
    "    r = range(28)\n",
    "    data = []\n",
    "    for ex in img:\n",
    "        data.append([])\n",
    "        for i in r:\n",
    "            for j in r:\n",
    "                if ex[i+j*28] == 1:\n",
    "                    data[-1].append([i,j])\n",
    "                else:\n",
    "                    data[-1].append([-100,-100])\n",
    "    return np.array(data)\n",
    "\n",
    "\n",
    "def translate_v2(ex, offx, offy):\n",
    "    #translation pour la nouvelle forme de chaque exemple\n",
    "    return ex + np.array([offx, offy])\n",
    "\n",
    "def procrustes_v2(u,v):\n",
    "    # modifie la forme des nouvelles données pour qu'il fonctionne \n",
    "    u = u.reshape(u.shape[0],2)\n",
    "    v = v.reshape(v.shape[0],2)\n",
    "    return procrustes(u,v)[2]\n",
    "\n",
    "data = positions(train_data)\n",
    "ex0 = data[1]\n",
    "ex1 = translate_v2(ex0, 2, -2)\n",
    "\n",
    "print(\"Mesure de dissimilarité obtenue:\")\n",
    "print(\"\\t l'original et l'original: %.4f\" % (procrustes_v2(ex0, ex0)))\n",
    "print(\"\\t l'original et après translation: %.4f\" % (procrustes_v2(ex0, ex1)))\n",
    "\n",
    "\n",
    "# On vérifie sur 100 exemples au hasard\n",
    "batch_size = 100\n",
    "\n",
    "idxs = [rand.randrange(data.shape[0]) for n in range(batch_size)]\n",
    "\n",
    "dists = [procrustes_v2(data[i], translate_v2(data[i], 2, -2)) for i in idxs]\n",
    "\n",
    "max_dist = np.max(dists)\n",
    "min_dist = np.min(dists)\n",
    "\n",
    "print(\"\\t max sur un échantillon quand on compare un exemple avec sa translation: %.4f\" % max_dist)\n",
    "print(\"\\t min sur un échantillon quand on compare un exemple avec sa translation: %.4f\" % min_dist)\n",
    "\n",
    "dists = [procrustes_v2(data[idxs[i]], data[idxs[j]]) for i in range(batch_size) for j in range(i, batch_size)]\n",
    "\n",
    "max_dist = np.max(dists)\n",
    "min_dist = np.min(dists)\n",
    "\n",
    "print(\"\\t max sur un échantillon avec deux exemples au hasard (ie a!=b): %.4f\" % max_dist)\n",
    "print(\"\\t min sur un échantillon avec deux exemples au hasard (ie a!=b): %.4f\" % min_dist)"
   ]
  },
  {
   "cell_type": "markdown",
   "metadata": {},
   "source": [
    "Procruste est, alors, bien capable de faire la différence entre un exemple et son correspondant après translation. Cependant, si nous essayons avec procrustes et les données transformées, cela ne donne pas de bon résultat."
   ]
  },
  {
   "cell_type": "code",
   "execution_count": 40,
   "metadata": {},
   "outputs": [],
   "source": [
    "# TODO mettre essaie knn, procrustes et données transformé en points"
   ]
  },
  {
   "cell_type": "markdown",
   "metadata": {},
   "source": [
    "Nous avons, donc, décidé de partir de procrustes et de trouver une manière d'améliorer sa performance sur les données en format pixel. Vu que la translation et la rotation n'a pas l'effet espérer sur les données, il est intéressant de vérifier l'impact réel de ces étapes sur la performance."
   ]
  },
  {
   "cell_type": "code",
   "execution_count": 45,
   "metadata": {},
   "outputs": [
    {
     "name": "stdout",
     "output_type": "stream",
     "text": [
      "Taux de succès avec knn et Procrustes analysis modifié comme similarité: 90.0000 %\n",
      "37.9759259223938 seconds\n"
     ]
    }
   ],
   "source": [
    "start = time.time()\n",
    "knn_procrustes_modified = knn(n_neighbors=7, metric=procrustes_similarity_modified, n_jobs=-1)\n",
    "knn_procrustes_modified.fit(train_data, train_label)\n",
    "result_procrustes_modified = knn_procrustes_modified.score(test_data, test_label)\n",
    "\n",
    "end = time.time()\n",
    "print(\"Taux de succès avec knn et Procrustes analysis modifié comme similarité: %.4f %%\" % (result_procrustes_modified * 100.0))\n",
    "print(end-start, 'seconds')\n",
    "\n",
    "# Avec 1000 train examples et 500 test examples:\n",
    "# Taux de succès avec knn et Procrustes analysis modifié comme similarité: 90.0000 %\n",
    "# 37.9759259223938 seconds"
   ]
  },
  {
   "cell_type": "markdown",
   "metadata": {},
   "source": [
    "Cette version de procrustes donne une très bonne amélioration. Il augmente sensiblement la performance comparée à procrustes (de 89.4% à 90%) et diminue le temps d'exécution d'environ 88 secondes (de 2 minutes 6 secondes à 38 secondes)."
   ]
  },
  {
   "cell_type": "markdown",
   "metadata": {},
   "source": [
    "## Performance"
   ]
  },
  {
   "cell_type": "markdown",
   "metadata": {},
   "source": [
    "#### Distance euclidienne"
   ]
  },
  {
   "cell_type": "markdown",
   "metadata": {},
   "source": [
    "###### kNN"
   ]
  },
  {
   "cell_type": "code",
   "execution_count": 80,
   "metadata": {},
   "outputs": [
    {
     "name": "stdout",
     "output_type": "stream",
     "text": [
      "Avec 1000 exemples et 500 test examples\n",
      "Taux de succès avec knn et la distance euclidienne: 84.6000 %\n",
      "0.24564862251281738 seconds\n",
      "\n",
      "Avec 5000 exemples et 1000 test examples\n",
      "Taux de succès avec knn et la distance euclidienne: 93.4000 %\n",
      "1.5314044952392578 seconds\n",
      "\n",
      "Avec 10000 exemples et 1500 test examples\n",
      "Taux de succès avec knn et la distance euclidienne: 96.1333 %\n",
      "4.877082109451294 seconds\n",
      "\n"
     ]
    }
   ],
   "source": [
    "knn_eu_results =[]\n",
    "knn_eu_times = []\n",
    "\n",
    "for i in range(len(multiple_train_data)):\n",
    "    start = time.time()\n",
    "    knn_eu = knn(n_neighbors=7, metric='euclidean', n_jobs=-1)\n",
    "    knn_eu.fit(multiple_train_data[i], multiple_train_label[i])\n",
    "    result_knn_eu = knn_eu.score(multiple_test_data[i], multiple_test_label[i])\n",
    "    end = time.time()\n",
    "    duration = end-start\n",
    "\n",
    "    knn_eu_results.append(result_knn_eu*100)\n",
    "    knn_eu_times.append(duration)\n",
    "\n",
    "    print('Avec '+str(multiple_train_data[i].shape[0])+' exemples et '+str(multiple_test_data[i].shape[0])+' test examples')\n",
    "    print(\"Taux de succès avec knn et la distance euclidienne: %.4f %%\" % (result_knn_eu * 100.0))\n",
    "    print(duration, 'seconds')\n",
    "    print()"
   ]
  },
  {
   "cell_type": "markdown",
   "metadata": {},
   "source": [
    "###### Partition binaire"
   ]
  },
  {
   "cell_type": "code",
   "execution_count": null,
   "metadata": {},
   "outputs": [],
   "source": []
  },
  {
   "cell_type": "markdown",
   "metadata": {},
   "source": [
    "###### K-medoids"
   ]
  },
  {
   "cell_type": "code",
   "execution_count": 77,
   "metadata": {
    "scrolled": true
   },
   "outputs": [
    {
     "name": "stdout",
     "output_type": "stream",
     "text": [
      "Avec 1000 exemples et 500 test examples\n",
      "Taux de succès avec k-medoids et la distance Euclidienne: 9.2000 %\n",
      "0.1356191635131836 seconds\n",
      "\n",
      "Avec 5000 exemples et 1000 test examples\n",
      "Taux de succès avec k-medoids et la distance Euclidienne: 16.9000 %\n",
      "1.1967997550964355 seconds\n",
      "\n",
      "Avec 10000 exemples et 1500 test examples\n",
      "Taux de succès avec k-medoids et la distance Euclidienne: 20.8000 %\n",
      "4.815124273300171 seconds\n",
      "\n"
     ]
    }
   ],
   "source": [
    "kmedoids_eu_results =[]\n",
    "kmedoids_eu_times = []\n",
    "\n",
    "for i in range(len(multiple_train_data)):\n",
    "\n",
    "    start = time.time()\n",
    "    kmedoids_eu = KMedoids(n_clusters=10, distance_metric='euclidean', random_state=None)\n",
    "    kmedoids_eu.fit(multiple_train_data[i])\n",
    "    result_kmedoids_eu = kmedoids_eu.score(multiple_test_data[i], multiple_test_label[i])\n",
    "    end = time.time()\n",
    "    duration = end-start\n",
    "\n",
    "    kmedoids_eu_results.append(result_kmedoids_eu*100)\n",
    "    kmedoids_eu_times.append(duration)\n",
    "\n",
    "    print('Avec '+str(multiple_train_data[i].shape[0])+' exemples et '+str(multiple_test_data[i].shape[0])+' test examples')\n",
    "    print(\"Taux de succès avec k-medoids et la distance Euclidienne: %.4f %%\" % (result_kmedoids_eu * 100.0))\n",
    "    print(duration, 'seconds')\n",
    "    print()"
   ]
  },
  {
   "cell_type": "markdown",
   "metadata": {},
   "source": [
    "###### PCoA"
   ]
  },
  {
   "cell_type": "code",
   "execution_count": null,
   "metadata": {},
   "outputs": [],
   "source": []
  },
  {
   "cell_type": "markdown",
   "metadata": {},
   "source": [
    "###### Isomap"
   ]
  },
  {
   "cell_type": "code",
   "execution_count": null,
   "metadata": {},
   "outputs": [],
   "source": []
  },
  {
   "cell_type": "markdown",
   "metadata": {},
   "source": [
    "#### Procrustes"
   ]
  },
  {
   "cell_type": "markdown",
   "metadata": {},
   "source": [
    "###### kNN"
   ]
  },
  {
   "cell_type": "code",
   "execution_count": 82,
   "metadata": {},
   "outputs": [
    {
     "name": "stdout",
     "output_type": "stream",
     "text": [
      "Avec 1000 exemples et 500 test examples\n",
      "Taux de succès avec knn et procrustes: 89.4000 %\n",
      "145.3494565486908 seconds\n",
      "\n",
      "Avec 5000 exemples et 1000 test examples\n",
      "Taux de succès avec knn et procrustes: 95.2000 %\n",
      "1456.8666772842407 seconds\n",
      "\n",
      "Avec 10000 exemples et 1500 test examples\n",
      "Taux de succès avec knn et procrustes: 97.4667 %\n",
      "5239.060158729553 seconds\n",
      "\n"
     ]
    }
   ],
   "source": [
    "knn_proc_results =[]\n",
    "knn_proc_times = []\n",
    "\n",
    "for i in range(len(multiple_train_data)):\n",
    "    start = time.time()\n",
    "    knn_proc = knn(n_neighbors=7, metric=procrustes_similarity, n_jobs=-1)\n",
    "    knn_proc.fit(multiple_train_data[i], multiple_train_label[i])\n",
    "    result_knn_proc = knn_proc.score(multiple_test_data[i], multiple_test_label[i])\n",
    "    end = time.time()\n",
    "    duration = end-start\n",
    "\n",
    "    knn_proc_results.append(result_knn_proc*100)\n",
    "    knn_proc_times.append(duration)\n",
    "\n",
    "    print('Avec '+str(multiple_train_data[i].shape[0])+' exemples et '+str(multiple_test_data[i].shape[0])+' test examples')\n",
    "    print(\"Taux de succès avec knn et procrustes: %.4f %%\" % (result_knn_proc * 100.0))\n",
    "    print(duration, 'seconds')\n",
    "    print()"
   ]
  },
  {
   "cell_type": "markdown",
   "metadata": {},
   "source": [
    "#### Partition binaire"
   ]
  },
  {
   "cell_type": "code",
   "execution_count": null,
   "metadata": {},
   "outputs": [],
   "source": []
  },
  {
   "cell_type": "markdown",
   "metadata": {},
   "source": [
    "###### K-medoids"
   ]
  },
  {
   "cell_type": "code",
   "execution_count": null,
   "metadata": {},
   "outputs": [
    {
     "name": "stdout",
     "output_type": "stream",
     "text": [
      "Avec 1000 exemples et 500 test examples\n",
      "Taux de succès avec k-medoids et Procrustes: 15.0000 %\n",
      "83.9465262889862 seconds\n",
      "\n"
     ]
    }
   ],
   "source": [
    "kmedoids_proc_results =[]\n",
    "kmedoids_proc_times = []\n",
    "\n",
    "for i in range(len(multiple_train_data)):\n",
    "\n",
    "    start = time.time()\n",
    "    kmedoids_proc = KMedoids(n_clusters=10, distance_metric=procrustes_matrix, random_state=None, procrustes_type='normal')\n",
    "    kmedoids_proc.fit(multiple_train_data[i])\n",
    "    result_kmedoids_proc = kmedoids_proc.score(multiple_test_data[i], multiple_test_label[i])\n",
    "    end = time.time()\n",
    "    duration = end-start\n",
    "\n",
    "    kmedoids_proc_results.append(result_kmedoids_proc*100)\n",
    "    kmedoids_proc_times.append(duration)\n",
    "\n",
    "    print('Avec '+str(multiple_train_data[i].shape[0])+' exemples et '+str(multiple_test_data[i].shape[0])+' test examples')\n",
    "    print(\"Taux de succès avec k-medoids et Procrustes: %.4f %%\" % (result_kmedoids_proc * 100.0))\n",
    "    print(duration, 'seconds')\n",
    "    print()"
   ]
  },
  {
   "cell_type": "markdown",
   "metadata": {},
   "source": [
    "###### PCoA"
   ]
  },
  {
   "cell_type": "code",
   "execution_count": null,
   "metadata": {},
   "outputs": [],
   "source": []
  },
  {
   "cell_type": "markdown",
   "metadata": {},
   "source": [
    "###### Isomap"
   ]
  },
  {
   "cell_type": "code",
   "execution_count": null,
   "metadata": {},
   "outputs": [],
   "source": []
  },
  {
   "cell_type": "markdown",
   "metadata": {},
   "source": [
    "#### Procrustes modifié"
   ]
  },
  {
   "cell_type": "markdown",
   "metadata": {},
   "source": [
    "###### kNN"
   ]
  },
  {
   "cell_type": "code",
   "execution_count": 85,
   "metadata": {},
   "outputs": [
    {
     "name": "stdout",
     "output_type": "stream",
     "text": [
      "Avec 1000 exemples et 500 test examples\n",
      "Taux de succès avec knn et procrustes modifié: 90.0000 %\n",
      "39.02003073692322 seconds\n",
      "\n",
      "Avec 5000 exemples et 1000 test examples\n",
      "Taux de succès avec knn et procrustes modifié: 94.7000 %\n",
      "458.5178654193878 seconds\n",
      "\n",
      "Avec 10000 exemples et 1500 test examples\n",
      "Taux de succès avec knn et procrustes modifié: 97.1333 %\n",
      "1367.345130443573 seconds\n",
      "\n"
     ]
    }
   ],
   "source": [
    "knn_procm_results =[]\n",
    "knn_procm_times = []\n",
    "\n",
    "for i in range(len(multiple_train_data)):\n",
    "    start = time.time()\n",
    "    knn_procm = knn(n_neighbors=7, metric=procrustes_similarity_modified, n_jobs=-1)\n",
    "    knn_procm.fit(multiple_train_data[i], multiple_train_label[i])\n",
    "    result_knn_procm = knn_procm.score(multiple_test_data[i], multiple_test_label[i])\n",
    "    end = time.time()\n",
    "    duration = end-start\n",
    "\n",
    "    knn_procm_results.append(result_knn_procm*100)\n",
    "    knn_procm_times.append(duration)\n",
    "\n",
    "    print('Avec '+str(multiple_train_data[i].shape[0])+' exemples et '+str(multiple_test_data[i].shape[0])+' test examples')\n",
    "    print(\"Taux de succès avec knn et procrustes modifié: %.4f %%\" % (result_knn_procm * 100.0))\n",
    "    print(duration, 'seconds')\n",
    "    print()"
   ]
  },
  {
   "cell_type": "markdown",
   "metadata": {},
   "source": [
    "###### Partition Binaire"
   ]
  },
  {
   "cell_type": "code",
   "execution_count": null,
   "metadata": {},
   "outputs": [],
   "source": []
  },
  {
   "cell_type": "markdown",
   "metadata": {},
   "source": [
    "###### K-medoids"
   ]
  },
  {
   "cell_type": "code",
   "execution_count": null,
   "metadata": {},
   "outputs": [],
   "source": [
    "kmedoids_procm_results =[]\n",
    "kmedoids_procm_times = []\n",
    "\n",
    "for i in range(len(multiple_train_data)):\n",
    "\n",
    "    start = time.time()\n",
    "    kmedoids_procm = KMedoids(n_clusters=10,distance_metric=procrustes_matrix_modified, random_state=None, procrustes_type='modified')\n",
    "    kmedoids_procm.fit(multiple_train_data[i])\n",
    "    result_kmedoids_procm = kmedoids_procm.score(multiple_test_data[i], multiple_test_label[i])\n",
    "    end = time.time()\n",
    "    duration = end-start\n",
    "\n",
    "    kmedoids_procm_results.append(result_kmedoids_procm*100)\n",
    "    kmedoids_procm_times.append(duration)\n",
    "\n",
    "    print('Avec '+str(multiple_train_data[i].shape[0])+' exemples et '+str(multiple_test_data[i].shape[0])+' test examples')\n",
    "    print(\"Taux de succès avec k-medoids et Procrustes modifié: %.4f %%\" % (result_kmedoids_procm * 100.0))\n",
    "    print(duration, 'seconds')\n",
    "    print()"
   ]
  },
  {
   "cell_type": "markdown",
   "metadata": {},
   "source": [
    "###### PCoA"
   ]
  },
  {
   "cell_type": "code",
   "execution_count": null,
   "metadata": {},
   "outputs": [],
   "source": []
  },
  {
   "cell_type": "markdown",
   "metadata": {},
   "source": [
    "###### Isomap"
   ]
  },
  {
   "cell_type": "code",
   "execution_count": null,
   "metadata": {},
   "outputs": [],
   "source": []
  },
  {
   "cell_type": "markdown",
   "metadata": {},
   "source": [
    "## Comparaison"
   ]
  },
  {
   "cell_type": "code",
   "execution_count": 94,
   "metadata": {},
   "outputs": [],
   "source": [
    "nb_exemples = []\n",
    "for i in range(len(training_size)):\n",
    "    nb_exemples.append(60000-training_size[i] + 1)\n",
    "\n",
    "\n",
    "def compare_plot(eu_list,proc_list,procm_list, y_label, title):\n",
    "    # compare graphiquement la performance ou le temps d'exécution des trois mesures\n",
    "    plt.plot(nb_exemples,eu_list,label='Euclidien')\n",
    "    plt.plot(nb_exemples,proc_list,label='Procrustes')\n",
    "    plt.plot(nb_exemples,procm_list,label='Procrustes Modifié')\n",
    "    plt.xlabel(\"nombre d'exemples d'entrainement\")\n",
    "    plt.ylabel(y_label)\n",
    "    plt.legend(loc='best')\n",
    "    plt.title(title)\n",
    "    plt.show()"
   ]
  },
  {
   "cell_type": "markdown",
   "metadata": {},
   "source": [
    "#### kNN"
   ]
  },
  {
   "cell_type": "code",
   "execution_count": 90,
   "metadata": {},
   "outputs": [
    {
     "data": {
      "image/png": "[encoded data removed]",
      "text/plain": [
       "<matplotlib.figure.Figure at 0x2f1fbed9198>"
      ]
     },
     "metadata": {},
     "output_type": "display_data"
    },
    {
     "data": {
      "image/png": "[encoded data removed]",
      "text/plain": [
       "<matplotlib.figure.Figure at 0x2f1f9353e48>"
      ]
     },
     "metadata": {},
     "output_type": "display_data"
    }
   ],
   "source": [
    "compare_plot(knn_eu_times, knn_proc_times, knn_procm_times,\"temps d'exécution\", 'knn')\n",
    "compare_plot(knn_eu_results , knn_proc_results, knn_procm_results ,\"Pourcentage correctement classifié\", 'knn')"
   ]
  },
  {
   "cell_type": "markdown",
   "metadata": {},
   "source": [
    "On peut voir que procrustes prend rapidement de plus en plus de temps à exécuter tandis que la version modifiée augmente d'une manière un peu plus proche d'un temps linéaire (malgré qu'elle ne soit pas non plus linéaire). Par exemple, procrustes prend 1 heure 27 minutes et 19 secondes à 10000 exemples tandis que la version modifiée prend seulement 22 minutes et 47 secondes. Pour ce qui est du temps d'exécution de la version euclidienne, elle n'augmente presque pas avec le nombre d'exemples. Elle prend environ 5 secondes à 10000 exemples.\n",
    "\n",
    "Pour la performance par contre, la version euclidenne est la moins performante peu importe le nombre d'exemples (5.4%, 1.3% et 1% de différence entre la modifié et euclidienne à respectivement 1000, 5000 et 10000 exemples). On voit, cependant, qu'avec le nombre d'exemples augmentant, la différence de performance diminue, car ils s'approchent tous du plafond de 100%. Avec peu d'exemples, la différence entre procrustes et la version modifiée est en faveur de la version modifiée. Cependant, avec l'augmentation du nombre d'exemples, la différence diminue rapidement (0.6%, -0.5% et -0.334% de différence à respectivement 1000, 5000 et 10000 exemples)"
   ]
  },
  {
   "cell_type": "markdown",
   "metadata": {},
   "source": [
    "##### Partition Binaire"
   ]
  },
  {
   "cell_type": "code",
   "execution_count": null,
   "metadata": {},
   "outputs": [],
   "source": []
  },
  {
   "cell_type": "markdown",
   "metadata": {},
   "source": []
  },
  {
   "cell_type": "markdown",
   "metadata": {},
   "source": [
    "#### K-medoids"
   ]
  },
  {
   "cell_type": "code",
   "execution_count": null,
   "metadata": {},
   "outputs": [],
   "source": [
    "compare_plot(kmedoids_eu_times, kmedoids_proc_times, kmedoids_procm_times,\"temps d'exécution\", 'k-medoids')\n",
    "compare_plot(kmedoids_eu_results , kmedoids_proc_results, kmedoids_procm_results ,\"Pourcentage correctement classifié\", 'k-medoids')"
   ]
  },
  {
   "cell_type": "markdown",
   "metadata": {},
   "source": []
  },
  {
   "cell_type": "markdown",
   "metadata": {},
   "source": [
    "#### PCoA"
   ]
  },
  {
   "cell_type": "code",
   "execution_count": null,
   "metadata": {},
   "outputs": [],
   "source": []
  },
  {
   "cell_type": "markdown",
   "metadata": {},
   "source": []
  },
  {
   "cell_type": "markdown",
   "metadata": {},
   "source": [
    "#### Isomap "
   ]
  },
  {
   "cell_type": "code",
   "execution_count": null,
   "metadata": {},
   "outputs": [],
   "source": []
  },
  {
   "cell_type": "markdown",
   "metadata": {},
   "source": []
  },
  {
   "cell_type": "code",
   "execution_count": null,
   "metadata": {},
   "outputs": [],
   "source": []
  }
 ],
 "metadata": {
  "kernelspec": {
   "display_name": "Python 3",
   "language": "python",
   "name": "python3"
  },
  "language_info": {
   "codemirror_mode": {
    "name": "ipython",
    "version": 3
   },
   "file_extension": ".py",
   "mimetype": "text/x-python",
   "name": "python",
   "nbconvert_exporter": "python",
   "pygments_lexer": "ipython3",
   "version": "3.6.4"
  }
 },
 "nbformat": 4,
 "nbformat_minor": 2
}
