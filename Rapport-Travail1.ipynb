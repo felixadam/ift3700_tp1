{
 "cells": [
  {
   "cell_type": "markdown",
   "metadata": {},
   "source": [
    "# IFT-3700 Travail 1\n",
    "\n",
    "Félix Adam\n",
    "\n",
    "Mehdi Aqdim\n",
    "\n",
    "Maxime Daigle\n",
    "\n",
    "Jonathan Graveline"
   ]
  },
  {
   "cell_type": "markdown",
   "metadata": {},
   "source": [
    "## Préparation"
   ]
  },
  {
   "cell_type": "code",
   "execution_count": 3,
   "metadata": {},
   "outputs": [],
   "source": [
    "import numpy as np\n",
    "import time\n",
    "import matplotlib.pyplot as plt\n",
    "%matplotlib inline\n",
    "\n",
    "\"\"\"\n",
    "    Mettre 'skiprows=1' pour avoir toutes les données.\n",
    "    (Mais c'est très long surtout pour faire des tests.)\n",
    "\"\"\"\n",
    "mnist_train = np.loadtxt('mnist_train.csv', dtype='int', delimiter=',', skiprows=59001)\n",
    "mnist_test  = np.loadtxt('mnist_test.csv', dtype='int', delimiter=',', skiprows=9501)\n",
    "\n",
    "train_label = mnist_train[:,0]\n",
    "train_data  = mnist_train[:,1:]\n",
    "\n",
    "test_label  = mnist_test[:,0]\n",
    "test_data   = mnist_test[:,1:]"
   ]
  },
  {
   "cell_type": "markdown",
   "metadata": {},
   "source": [
    "## Mesures"
   ]
  },
  {
   "cell_type": "code",
   "execution_count": 4,
   "metadata": {},
   "outputs": [],
   "source": [
    "# distance euclidien\n",
    "from sklearn.metrics import euclidean_distances\n",
    "\n",
    "#Procrustes analysis\n",
    "# https://docs.scipy.org/doc/scipy/reference/generated/scipy.spatial.procrustes.html\n",
    "from scipy.spatial import procrustes\n",
    "\n",
    "def procrustes_similarity(u,v):\n",
    "    #u and v are vectors\n",
    "    # return disparity score between u and v\n",
    "    u = u.reshape(u.shape[0],1)\n",
    "    v = v.reshape(v.shape[0],1)\n",
    "    return procrustes(u,v)[2]\n",
    "\n",
    "def procrustes_matrix(X):\n",
    "    # X is a matrix nxd with n vectors\n",
    "    # return distance matrix nxn where distance [i,j] is the distance between X[i] and X[j]\n",
    "    #environ 80 secondes pour creer une matrice (1000,1000)\n",
    "    result = np.zeros((X.shape[0],X.shape[0]))\n",
    "    for i in range(X.shape[0]):\n",
    "        for j in range(i, X.shape[0]):\n",
    "            result[i,j] = result[j,i] = procrustes_similarity(X[i],X[j])\n",
    "    return result\n",
    "\n",
    "\n",
    "# Notre mesure inspiré de procrustes\n",
    "# https://github.com/scipy/scipy/blob/v1.1.0/scipy/spatial/_procrustes.py#L17-L132\n",
    "from scipy.linalg.decomp_svd import svd\n",
    "\n",
    "def procrustes_modified(data1, data2):\n",
    "    mtx1 = np.array(data1, dtype=np.double, copy=True)\n",
    "    mtx2 = np.array(data2, dtype=np.double, copy=True)\n",
    "\n",
    "    if mtx1.ndim != 2 or mtx2.ndim != 2:\n",
    "        raise ValueError(\"Input matrices must be two-dimensional\")\n",
    "    if mtx1.shape != mtx2.shape:\n",
    "        raise ValueError(\"Input matrices must be of same shape\")\n",
    "    if mtx1.size == 0:\n",
    "        raise ValueError(\"Input matrices must be >0 rows and >0 cols\")\n",
    "\n",
    "    norm1 = np.linalg.norm(mtx1)\n",
    "    norm2 = np.linalg.norm(mtx2)\n",
    "\n",
    "    if norm1 == 0 or norm2 == 0:\n",
    "        raise ValueError(\"Input matrices must contain >1 unique points\")\n",
    "\n",
    "    # change scaling of data (in rows) such that trace(mtx*mtx') = 1\n",
    "    mtx1 /= norm1\n",
    "    mtx2 /= norm2\n",
    "\n",
    "    # measure the dissimilarity between the two datasets\n",
    "    disparity = np.sum(np.square(mtx1 - mtx2))\n",
    "\n",
    "    return mtx1, mtx2, disparity\n",
    "\n",
    "def procrustes_similarity_modified(u,v):\n",
    "    #u and v are vectors\n",
    "    # return disparity score between u and v\n",
    "    u = u.reshape(u.shape[0],1)\n",
    "    v = v.reshape(v.shape[0],1)\n",
    "    return procrustes_modified(u,v)[2]\n",
    "\n",
    "def procrustes_matrix_modified(X):\n",
    "    # X is a matrix nxd with n vectors\n",
    "    # return distance matrix nxn where distance [i,j] is the distance between X[i] and X[j]\n",
    "    #environ 80 secondes pour creer une matrice (1000,1000)\n",
    "    result = np.zeros((X.shape[0],X.shape[0]))\n",
    "    for i in range(X.shape[0]):\n",
    "        for j in range(i, X.shape[0]):\n",
    "            result[i,j] = result[j,i] = procrustes_similarity_modified(X[i],X[j])\n",
    "    return result"
   ]
  },
  {
   "cell_type": "markdown",
   "metadata": {},
   "source": [
    "## Implémentation des algorithmes"
   ]
  },
  {
   "cell_type": "markdown",
   "metadata": {},
   "source": [
    "#### KNN"
   ]
  },
  {
   "cell_type": "code",
   "execution_count": 5,
   "metadata": {},
   "outputs": [],
   "source": [
    "from sklearn.neighbors import KNeighborsClassifier as knn\n",
    "\n",
    "# exemple d'utilisation \n",
    "# knn_default = knn(n_neighbors=7, metric='euclidean', n_jobs=6)\n",
    "# knn_default.fit(train_data, train_label)\n",
    "# result = knn_default.score(test_data, test_label)\n",
    "# print(\"Taux de succès avec knn et la distance euclidienne: %.4f %%\" % (result * 100.0))"
   ]
  },
  {
   "cell_type": "markdown",
   "metadata": {},
   "source": [
    "#### Partition binaire"
   ]
  },
  {
   "cell_type": "code",
   "execution_count": null,
   "metadata": {},
   "outputs": [],
   "source": []
  },
  {
   "cell_type": "markdown",
   "metadata": {},
   "source": [
    "#### K-medoids"
   ]
  },
  {
   "cell_type": "code",
   "execution_count": null,
   "metadata": {},
   "outputs": [],
   "source": []
  },
  {
   "cell_type": "markdown",
   "metadata": {},
   "source": [
    "#### PCoA"
   ]
  },
  {
   "cell_type": "code",
   "execution_count": null,
   "metadata": {},
   "outputs": [],
   "source": []
  },
  {
   "cell_type": "markdown",
   "metadata": {},
   "source": [
    "#### Isomap"
   ]
  },
  {
   "cell_type": "code",
   "execution_count": null,
   "metadata": {},
   "outputs": [],
   "source": []
  },
  {
   "cell_type": "markdown",
   "metadata": {},
   "source": [
    "#### Visualisation de la réduction de dimensionalité"
   ]
  },
  {
   "cell_type": "code",
   "execution_count": null,
   "metadata": {},
   "outputs": [],
   "source": [
    "def visualize_2d(pos,title):\n",
    "    fig, ax = plt.subplots()\n",
    "    colors=((1,0,0),(0,1,0),(0,0,1),(0.5,0.5,0),(0,0.5,0.5),(0.5,0,0.5),(0.4,0.6,0),(0.6,0.4,0),(0,0.6,0.4),(0.5,0.3,0.2),)\n",
    "    for i in range(pos.shape[0]):\n",
    "        ax.scatter(pos[i,0],pos[i,1],label = train_label[i],color=colors[train_label[i]])\n",
    "\n",
    "    #remove duplicate in legend\n",
    "    handles,labels=ax.get_legend_handles_labels()\n",
    "    handles_unique, labels_unique = [],[]\n",
    "    seen = set()\n",
    "    for i,e in enumerate(labels):\n",
    "        if e not in seen:\n",
    "            seen.add(e)\n",
    "            handles_unique.append(handles[i])\n",
    "            labels_unique.append(e)\n",
    "            if len(seen) == 10:\n",
    "                break\n",
    "\n",
    "    #sort legend\n",
    "    labels_unique, handles_unique = (list(l) for l in zip(*sorted(zip(labels_unique, handles_unique))))\n",
    "\n",
    "    plt.legend(handles_unique,labels_unique,loc=\"best\")\n",
    "    plt.title(title)\n",
    "    plt.show()"
   ]
  },
  {
   "cell_type": "markdown",
   "metadata": {},
   "source": [
    "## Présentation de la mesure choisie"
   ]
  },
  {
   "cell_type": "markdown",
   "metadata": {},
   "source": [
    "Lors de la phase d'exploration, nous avons essayé de nombreuses mesures avec des résultats très variables. Par exemple, nous avons essayé la structural similarity index (SSIM)"
   ]
  },
  {
   "cell_type": "code",
   "execution_count": 9,
   "metadata": {},
   "outputs": [
    {
     "name": "stdout",
     "output_type": "stream",
     "text": [
      "Taux de succès avec knn et structural similarity index: 0.8000 %\n",
      "1294.130733013153 seconds\n"
     ]
    }
   ],
   "source": [
    "from skimage.measure import compare_ssim as ssim\n",
    "# http://scikit-image.org/docs/dev/api/skimage.measure.html#skimage.measure.compare_ssim\n",
    "\n",
    "# mean structural similarity index between two images\n",
    "start = time.time()\n",
    "knn_ssim = knn(n_neighbors=7, metric=ssim, n_jobs=-1)\n",
    "knn_ssim.fit(train_data, train_label)\n",
    "result_ssim = knn_ssim.score(test_data, test_label)\n",
    "\n",
    "end = time.time()\n",
    "print(\"Taux de succès avec knn et structural similarity index: %.4f %%\" % (result_ssim * 100.0))\n",
    "print(end-start, 'seconds')\n",
    "\n",
    "# Avec 5000 train example et 500 test example:\n",
    "# Taux de succès avec knn et structural similarity index: 0.8000 %\n",
    "# 1294.130733013153 seconds (22 minutes)"
   ]
  },
  {
   "cell_type": "markdown",
   "metadata": {},
   "source": [
    "qui est très lent et qui obtient un résultat extrêmement mauvais. Comparativement à des conditions exactement pareilles excepté que c'est la distance euclidienne, la ssim prend environ 22 minutes sur 5000 exemples tandis que la version avec la distance euclidienne prend 0.24 secondes. De plus, la performance est de seulement 0.8% tandis que la distance euclidienne obtient 84.6%."
   ]
  },
  {
   "cell_type": "markdown",
   "metadata": {},
   "source": [
    "Nous avons aussi essayé de nombreuse mesure plus simple comme la distance cosine ou L3:"
   ]
  },
  {
   "cell_type": "code",
   "execution_count": 78,
   "metadata": {},
   "outputs": [
    {
     "name": "stdout",
     "output_type": "stream",
     "text": [
      "Taux de succès avec knn et L3: 85.4000 %\n",
      "1.2310302257537842 seconds\n"
     ]
    }
   ],
   "source": [
    "start = time.time()\n",
    "knn_l3 = knn(n_neighbors=7, metric='minkowski', p=3, n_jobs=-1)\n",
    "knn_l3.fit(train_data, train_label)\n",
    "result_l3 = knn_l3.score(test_data, test_label)\n",
    "\n",
    "end = time.time()\n",
    "print(\"Taux de succès avec knn et L3: %.4f %%\" % (result_l3 * 100.0))\n",
    "print(end-start, 'seconds')\n",
    "\n",
    "# Avec 10000 train examples et 1000 test examples:\n",
    "# Taux de succès avec knn et L3: 95.5000 %\n",
    "# 28.261430978775024 seconds\n",
    "\n",
    "# Avec 5000 train examples et 500 test examples:\n",
    "# Taux de succès avec knn et L3: 90.8000 %\n",
    "# 6.961097002029419 seconds\n",
    "\n",
    "# Avec 1000 train examples et 500 test examples:\n",
    "# Taux de succès avec knn et L3: 85.4000 %\n",
    "# 1.2310302257537842 seconds"
   ]
  },
  {
   "cell_type": "markdown",
   "metadata": {},
   "source": [
    "Cependant, malgré que les temps d'execution ne soient pas beaucoup plus long (ici environ 1 secondes de plus que l'euclidien), les résultats obtenus n'étaient pas très intéressant étant donné que le résultat n'étaient qu'une très faible amélioration (dans ce cas-ci une amélioration de 0.8% (de 84.6% à 85.4%))."
   ]
  },
  {
   "cell_type": "markdown",
   "metadata": {},
   "source": [
    "Finalement, la mesure trouvée qui nous a donné les résultats les plus intéressants est l'analyse procustéenne (Procrustes analysis, en anglais)."
   ]
  },
  {
   "cell_type": "code",
   "execution_count": 76,
   "metadata": {},
   "outputs": [
    {
     "name": "stdout",
     "output_type": "stream",
     "text": [
      "Taux de succès avec knn et Procrustes analysis comme similarité: 89.4000 %\n",
      "126.29976058006287 seconds\n"
     ]
    }
   ],
   "source": [
    "start = time.time()\n",
    "knn_procrustes = knn(n_neighbors=7, metric=procrustes_similarity, n_jobs=-1)\n",
    "knn_procrustes.fit(train_data, train_label)\n",
    "result_procrustes = knn_procrustes.score(test_data, test_label)\n",
    "\n",
    "end = time.time()\n",
    "print(\"Taux de succès avec knn et Procrustes analysis comme similarité: %.4f %%\" % (result_procrustes * 100.0))\n",
    "print(end-start, 'seconds')\n",
    "\n",
    "# Avec 10000 train examples et 1000 test examples:\n",
    "# Taux de succès avec knn et Procrustes analysis comme similarité: 96.5000 %\n",
    "# 2965.029656648636 seconds (49 minutes)\n",
    "\n",
    "# Avec 5000 train example et 500 test example:\n",
    "# Taux de succès avec knn et Procrustes analysis comme similarité: 92.6000 %\n",
    "# 741.8232653141022 seconds (12 minutes)\n",
    "\n",
    "# Avec 1000 train examples et 500 test examples:\n",
    "# Taux de succès avec knn et Procrustes analysis comme similarité: 89.4000 %\n",
    "# 126.29976058006287 seconds (2 minutes 6 secondes)"
   ]
  },
  {
   "cell_type": "markdown",
   "metadata": {},
   "source": [
    "Malgré que l'execution prend, dans cet exemple, 2 minutes 6 secondes tandis que la version euclidéenne prend seulement 0.24 secondes, nous obtenons une amélioration de presque 5% (de 84.6% à 89.4%)."
   ]
  },
  {
   "cell_type": "code",
   "execution_count": null,
   "metadata": {},
   "outputs": [],
   "source": []
  }
 ],
 "metadata": {
  "kernelspec": {
   "display_name": "Python 3",
   "language": "python",
   "name": "python3"
  },
  "language_info": {
   "codemirror_mode": {
    "name": "ipython",
    "version": 3
   },
   "file_extension": ".py",
   "mimetype": "text/x-python",
   "name": "python",
   "nbconvert_exporter": "python",
   "pygments_lexer": "ipython3",
   "version": "3.6.4"
  }
 },
 "nbformat": 4,
 "nbformat_minor": 2
}
